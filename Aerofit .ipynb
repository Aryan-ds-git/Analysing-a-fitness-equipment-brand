{
 "cells": [
  {
   "cell_type": "markdown",
   "id": "2e66a978",
   "metadata": {},
   "source": [
    "# Business Case: Aerofit - Descriptive Statistics & Probability"
   ]
  },
  {
   "cell_type": "code",
   "execution_count": null,
   "id": "82f93191",
   "metadata": {},
   "outputs": [],
   "source": []
  },
  {
   "cell_type": "markdown",
   "id": "4d8a06ee",
   "metadata": {},
   "source": [
    "## About Aerofit\n",
    "\n",
    "Aerofit is a leading brand in the field of fitness equipment. Aerofit provides a product range including machines such as treadmills, exercise bikes, gym equipment, and fitness accessories to cater to the needs of all categories of people."
   ]
  },
  {
   "cell_type": "markdown",
   "id": "37263651",
   "metadata": {},
   "source": [
    "## Business Problem\n",
    "\n",
    "The market research team at AeroFit wants to identify the characteristics of the target audience for each type of treadmill offered by the company, to provide a better recommendation of the treadmills to the new customers. The team decides to investigate whether there are differences across the product with respect to customer characteristics.\n",
    "\n",
    "Perform descriptive analytics to create a customer profile for each AeroFit treadmill product by developing appropriate tables and charts.\n",
    "For each AeroFit treadmill product, construct two-way contingency tables and compute all conditional and marginal probabilities along with their insights/impact on the business."
   ]
  },
  {
   "cell_type": "code",
   "execution_count": null,
   "id": "f02eeb9f",
   "metadata": {},
   "outputs": [],
   "source": []
  },
  {
   "cell_type": "code",
   "execution_count": 1,
   "id": "d18bf09f",
   "metadata": {},
   "outputs": [],
   "source": [
    "import numpy as np\n",
    "import pandas as pd\n",
    "import matplotlib.pyplot as plt\n",
    "import seaborn as sns"
   ]
  },
  {
   "cell_type": "code",
   "execution_count": null,
   "id": "478f260b",
   "metadata": {},
   "outputs": [],
   "source": []
  },
  {
   "cell_type": "markdown",
   "id": "07bc9941",
   "metadata": {},
   "source": [
    "## Initial Exploration"
   ]
  },
  {
   "cell_type": "code",
   "execution_count": null,
   "id": "5893387b",
   "metadata": {},
   "outputs": [],
   "source": []
  },
  {
   "cell_type": "code",
   "execution_count": 2,
   "id": "2952d796",
   "metadata": {
    "scrolled": true
   },
   "outputs": [],
   "source": [
    "data = pd.read_csv(\"C:/Users/ARYAN/OneDrive/Documents/My Repository/Datasources/aerofit_treadmill.txt\")"
   ]
  },
  {
   "cell_type": "code",
   "execution_count": 3,
   "id": "990880e3",
   "metadata": {
    "scrolled": true
   },
   "outputs": [
    {
     "data": {
      "text/html": [
       "<div>\n",
       "<style scoped>\n",
       "    .dataframe tbody tr th:only-of-type {\n",
       "        vertical-align: middle;\n",
       "    }\n",
       "\n",
       "    .dataframe tbody tr th {\n",
       "        vertical-align: top;\n",
       "    }\n",
       "\n",
       "    .dataframe thead th {\n",
       "        text-align: right;\n",
       "    }\n",
       "</style>\n",
       "<table border=\"1\" class=\"dataframe\">\n",
       "  <thead>\n",
       "    <tr style=\"text-align: right;\">\n",
       "      <th></th>\n",
       "      <th>Product</th>\n",
       "      <th>Age</th>\n",
       "      <th>Gender</th>\n",
       "      <th>Education</th>\n",
       "      <th>MaritalStatus</th>\n",
       "      <th>Usage</th>\n",
       "      <th>Fitness</th>\n",
       "      <th>Income</th>\n",
       "      <th>Miles</th>\n",
       "    </tr>\n",
       "  </thead>\n",
       "  <tbody>\n",
       "    <tr>\n",
       "      <th>0</th>\n",
       "      <td>KP281</td>\n",
       "      <td>18</td>\n",
       "      <td>Male</td>\n",
       "      <td>14</td>\n",
       "      <td>Single</td>\n",
       "      <td>3</td>\n",
       "      <td>4</td>\n",
       "      <td>29562</td>\n",
       "      <td>112</td>\n",
       "    </tr>\n",
       "    <tr>\n",
       "      <th>1</th>\n",
       "      <td>KP281</td>\n",
       "      <td>19</td>\n",
       "      <td>Male</td>\n",
       "      <td>15</td>\n",
       "      <td>Single</td>\n",
       "      <td>2</td>\n",
       "      <td>3</td>\n",
       "      <td>31836</td>\n",
       "      <td>75</td>\n",
       "    </tr>\n",
       "    <tr>\n",
       "      <th>2</th>\n",
       "      <td>KP281</td>\n",
       "      <td>19</td>\n",
       "      <td>Female</td>\n",
       "      <td>14</td>\n",
       "      <td>Partnered</td>\n",
       "      <td>4</td>\n",
       "      <td>3</td>\n",
       "      <td>30699</td>\n",
       "      <td>66</td>\n",
       "    </tr>\n",
       "    <tr>\n",
       "      <th>3</th>\n",
       "      <td>KP281</td>\n",
       "      <td>19</td>\n",
       "      <td>Male</td>\n",
       "      <td>12</td>\n",
       "      <td>Single</td>\n",
       "      <td>3</td>\n",
       "      <td>3</td>\n",
       "      <td>32973</td>\n",
       "      <td>85</td>\n",
       "    </tr>\n",
       "    <tr>\n",
       "      <th>4</th>\n",
       "      <td>KP281</td>\n",
       "      <td>20</td>\n",
       "      <td>Male</td>\n",
       "      <td>13</td>\n",
       "      <td>Partnered</td>\n",
       "      <td>4</td>\n",
       "      <td>2</td>\n",
       "      <td>35247</td>\n",
       "      <td>47</td>\n",
       "    </tr>\n",
       "  </tbody>\n",
       "</table>\n",
       "</div>"
      ],
      "text/plain": [
       "  Product  Age  Gender  Education MaritalStatus  Usage  Fitness  Income  Miles\n",
       "0   KP281   18    Male         14        Single      3        4   29562    112\n",
       "1   KP281   19    Male         15        Single      2        3   31836     75\n",
       "2   KP281   19  Female         14     Partnered      4        3   30699     66\n",
       "3   KP281   19    Male         12        Single      3        3   32973     85\n",
       "4   KP281   20    Male         13     Partnered      4        2   35247     47"
      ]
     },
     "execution_count": 3,
     "metadata": {},
     "output_type": "execute_result"
    }
   ],
   "source": [
    "data.head()"
   ]
  },
  {
   "cell_type": "code",
   "execution_count": null,
   "id": "06816321",
   "metadata": {},
   "outputs": [],
   "source": []
  },
  {
   "cell_type": "code",
   "execution_count": 4,
   "id": "9b77c8b4",
   "metadata": {},
   "outputs": [
    {
     "data": {
      "text/plain": [
       "(180, 9)"
      ]
     },
     "execution_count": 4,
     "metadata": {},
     "output_type": "execute_result"
    }
   ],
   "source": [
    "data.shape"
   ]
  },
  {
   "cell_type": "code",
   "execution_count": null,
   "id": "a0475caf",
   "metadata": {},
   "outputs": [],
   "source": []
  },
  {
   "cell_type": "code",
   "execution_count": 5,
   "id": "224959fb",
   "metadata": {},
   "outputs": [
    {
     "name": "stdout",
     "output_type": "stream",
     "text": [
      "<class 'pandas.core.frame.DataFrame'>\n",
      "RangeIndex: 180 entries, 0 to 179\n",
      "Data columns (total 9 columns):\n",
      " #   Column         Non-Null Count  Dtype \n",
      "---  ------         --------------  ----- \n",
      " 0   Product        180 non-null    object\n",
      " 1   Age            180 non-null    int64 \n",
      " 2   Gender         180 non-null    object\n",
      " 3   Education      180 non-null    int64 \n",
      " 4   MaritalStatus  180 non-null    object\n",
      " 5   Usage          180 non-null    int64 \n",
      " 6   Fitness        180 non-null    int64 \n",
      " 7   Income         180 non-null    int64 \n",
      " 8   Miles          180 non-null    int64 \n",
      "dtypes: int64(6), object(3)\n",
      "memory usage: 12.8+ KB\n"
     ]
    }
   ],
   "source": [
    "data.info()"
   ]
  },
  {
   "cell_type": "code",
   "execution_count": null,
   "id": "121719b7",
   "metadata": {},
   "outputs": [],
   "source": []
  },
  {
   "cell_type": "code",
   "execution_count": 6,
   "id": "a2eb636f",
   "metadata": {},
   "outputs": [
    {
     "data": {
      "text/html": [
       "<div>\n",
       "<style scoped>\n",
       "    .dataframe tbody tr th:only-of-type {\n",
       "        vertical-align: middle;\n",
       "    }\n",
       "\n",
       "    .dataframe tbody tr th {\n",
       "        vertical-align: top;\n",
       "    }\n",
       "\n",
       "    .dataframe thead th {\n",
       "        text-align: right;\n",
       "    }\n",
       "</style>\n",
       "<table border=\"1\" class=\"dataframe\">\n",
       "  <thead>\n",
       "    <tr style=\"text-align: right;\">\n",
       "      <th></th>\n",
       "      <th>Age</th>\n",
       "      <th>Education</th>\n",
       "      <th>Usage</th>\n",
       "      <th>Fitness</th>\n",
       "      <th>Income</th>\n",
       "      <th>Miles</th>\n",
       "    </tr>\n",
       "  </thead>\n",
       "  <tbody>\n",
       "    <tr>\n",
       "      <th>count</th>\n",
       "      <td>180.000000</td>\n",
       "      <td>180.000000</td>\n",
       "      <td>180.000000</td>\n",
       "      <td>180.000000</td>\n",
       "      <td>180.000000</td>\n",
       "      <td>180.000000</td>\n",
       "    </tr>\n",
       "    <tr>\n",
       "      <th>mean</th>\n",
       "      <td>28.788889</td>\n",
       "      <td>15.572222</td>\n",
       "      <td>3.455556</td>\n",
       "      <td>3.311111</td>\n",
       "      <td>53719.577778</td>\n",
       "      <td>103.194444</td>\n",
       "    </tr>\n",
       "    <tr>\n",
       "      <th>std</th>\n",
       "      <td>6.943498</td>\n",
       "      <td>1.617055</td>\n",
       "      <td>1.084797</td>\n",
       "      <td>0.958869</td>\n",
       "      <td>16506.684226</td>\n",
       "      <td>51.863605</td>\n",
       "    </tr>\n",
       "    <tr>\n",
       "      <th>min</th>\n",
       "      <td>18.000000</td>\n",
       "      <td>12.000000</td>\n",
       "      <td>2.000000</td>\n",
       "      <td>1.000000</td>\n",
       "      <td>29562.000000</td>\n",
       "      <td>21.000000</td>\n",
       "    </tr>\n",
       "    <tr>\n",
       "      <th>25%</th>\n",
       "      <td>24.000000</td>\n",
       "      <td>14.000000</td>\n",
       "      <td>3.000000</td>\n",
       "      <td>3.000000</td>\n",
       "      <td>44058.750000</td>\n",
       "      <td>66.000000</td>\n",
       "    </tr>\n",
       "    <tr>\n",
       "      <th>50%</th>\n",
       "      <td>26.000000</td>\n",
       "      <td>16.000000</td>\n",
       "      <td>3.000000</td>\n",
       "      <td>3.000000</td>\n",
       "      <td>50596.500000</td>\n",
       "      <td>94.000000</td>\n",
       "    </tr>\n",
       "    <tr>\n",
       "      <th>75%</th>\n",
       "      <td>33.000000</td>\n",
       "      <td>16.000000</td>\n",
       "      <td>4.000000</td>\n",
       "      <td>4.000000</td>\n",
       "      <td>58668.000000</td>\n",
       "      <td>114.750000</td>\n",
       "    </tr>\n",
       "    <tr>\n",
       "      <th>max</th>\n",
       "      <td>50.000000</td>\n",
       "      <td>21.000000</td>\n",
       "      <td>7.000000</td>\n",
       "      <td>5.000000</td>\n",
       "      <td>104581.000000</td>\n",
       "      <td>360.000000</td>\n",
       "    </tr>\n",
       "  </tbody>\n",
       "</table>\n",
       "</div>"
      ],
      "text/plain": [
       "              Age   Education       Usage     Fitness         Income  \\\n",
       "count  180.000000  180.000000  180.000000  180.000000     180.000000   \n",
       "mean    28.788889   15.572222    3.455556    3.311111   53719.577778   \n",
       "std      6.943498    1.617055    1.084797    0.958869   16506.684226   \n",
       "min     18.000000   12.000000    2.000000    1.000000   29562.000000   \n",
       "25%     24.000000   14.000000    3.000000    3.000000   44058.750000   \n",
       "50%     26.000000   16.000000    3.000000    3.000000   50596.500000   \n",
       "75%     33.000000   16.000000    4.000000    4.000000   58668.000000   \n",
       "max     50.000000   21.000000    7.000000    5.000000  104581.000000   \n",
       "\n",
       "            Miles  \n",
       "count  180.000000  \n",
       "mean   103.194444  \n",
       "std     51.863605  \n",
       "min     21.000000  \n",
       "25%     66.000000  \n",
       "50%     94.000000  \n",
       "75%    114.750000  \n",
       "max    360.000000  "
      ]
     },
     "execution_count": 6,
     "metadata": {},
     "output_type": "execute_result"
    }
   ],
   "source": [
    "data.describe()"
   ]
  },
  {
   "cell_type": "code",
   "execution_count": null,
   "id": "5c918bc8",
   "metadata": {},
   "outputs": [],
   "source": []
  },
  {
   "cell_type": "code",
   "execution_count": 7,
   "id": "2f0639be",
   "metadata": {
    "scrolled": true
   },
   "outputs": [
    {
     "data": {
      "text/plain": [
       "Male      104\n",
       "Female     76\n",
       "Name: Gender, dtype: int64"
      ]
     },
     "execution_count": 7,
     "metadata": {},
     "output_type": "execute_result"
    }
   ],
   "source": [
    "data[\"Gender\"].value_counts()"
   ]
  },
  {
   "cell_type": "code",
   "execution_count": null,
   "id": "ce12179e",
   "metadata": {},
   "outputs": [],
   "source": []
  },
  {
   "cell_type": "code",
   "execution_count": 8,
   "id": "049c2734",
   "metadata": {
    "scrolled": true
   },
   "outputs": [
    {
     "data": {
      "text/plain": [
       "Male      0.58\n",
       "Female    0.42\n",
       "Name: Gender, dtype: float64"
      ]
     },
     "execution_count": 8,
     "metadata": {},
     "output_type": "execute_result"
    }
   ],
   "source": [
    "(data[\"Gender\"].value_counts()/data[\"Gender\"].count()).round(2)"
   ]
  },
  {
   "cell_type": "code",
   "execution_count": null,
   "id": "a7062285",
   "metadata": {},
   "outputs": [],
   "source": []
  },
  {
   "cell_type": "markdown",
   "id": "917ff173",
   "metadata": {},
   "source": [
    "### Gender Probability\n",
    "- P(Male) : 0.58\n",
    "- P(Female) : 0.42 "
   ]
  },
  {
   "cell_type": "code",
   "execution_count": null,
   "id": "f286ca79",
   "metadata": {},
   "outputs": [],
   "source": []
  },
  {
   "cell_type": "code",
   "execution_count": 9,
   "id": "6670b2f3",
   "metadata": {},
   "outputs": [
    {
     "data": {
      "image/png": "[encoded data removed]",
      "text/plain": [
       "<Figure size 640x480 with 1 Axes>"
      ]
     },
     "metadata": {},
     "output_type": "display_data"
    }
   ],
   "source": [
    "sns.countplot(x = data[\"Gender\"], palette = \"pastel\")\n",
    "plt.xlabel(\"Gender\", fontweight = \"bold\")\n",
    "plt.ylabel(\"Count\", fontweight = \"bold\")\n",
    "plt.show()"
   ]
  },
  {
   "cell_type": "code",
   "execution_count": null,
   "id": "eb9aa4ce",
   "metadata": {},
   "outputs": [],
   "source": []
  },
  {
   "cell_type": "code",
   "execution_count": 10,
   "id": "9af8fd24",
   "metadata": {
    "scrolled": true
   },
   "outputs": [
    {
     "data": {
      "text/plain": [
       "Partnered    107\n",
       "Single        73\n",
       "Name: MaritalStatus, dtype: int64"
      ]
     },
     "execution_count": 10,
     "metadata": {},
     "output_type": "execute_result"
    }
   ],
   "source": [
    "data[\"MaritalStatus\"].value_counts()"
   ]
  },
  {
   "cell_type": "code",
   "execution_count": null,
   "id": "4ca90413",
   "metadata": {},
   "outputs": [],
   "source": []
  },
  {
   "cell_type": "code",
   "execution_count": 11,
   "id": "b9306a72",
   "metadata": {
    "scrolled": true
   },
   "outputs": [
    {
     "data": {
      "text/plain": [
       "Partnered    0.59\n",
       "Single       0.41\n",
       "Name: MaritalStatus, dtype: float64"
      ]
     },
     "execution_count": 11,
     "metadata": {},
     "output_type": "execute_result"
    }
   ],
   "source": [
    "(data[\"MaritalStatus\"].value_counts()/data[\"MaritalStatus\"].count()).round(2)"
   ]
  },
  {
   "cell_type": "code",
   "execution_count": null,
   "id": "ca59ee4c",
   "metadata": {},
   "outputs": [],
   "source": []
  },
  {
   "cell_type": "markdown",
   "id": "2607f877",
   "metadata": {},
   "source": [
    "### Marital Status Probability\n",
    "- P(Partnered) : 0.59\n",
    "- P(Single) : 0.41"
   ]
  },
  {
   "cell_type": "code",
   "execution_count": null,
   "id": "69de6c98",
   "metadata": {},
   "outputs": [],
   "source": []
  },
  {
   "cell_type": "code",
   "execution_count": 12,
   "id": "13568dc3",
   "metadata": {},
   "outputs": [
    {
     "data": {
      "image/png": "[encoded data removed]",
      "text/plain": [
       "<Figure size 640x480 with 1 Axes>"
      ]
     },
     "metadata": {},
     "output_type": "display_data"
    }
   ],
   "source": [
    "sns.countplot(x = data[\"MaritalStatus\"])\n",
    "plt.xlabel(\"Marital Status\", fontweight = \"bold\")\n",
    "plt.ylabel(\"Count\", fontweight = \"bold\")\n",
    "plt.show()"
   ]
  },
  {
   "cell_type": "code",
   "execution_count": null,
   "id": "b386a9a7",
   "metadata": {},
   "outputs": [],
   "source": []
  },
  {
   "cell_type": "code",
   "execution_count": 13,
   "id": "dd5e839e",
   "metadata": {},
   "outputs": [
    {
     "data": {
      "text/plain": [
       "KP281    80\n",
       "KP481    60\n",
       "KP781    40\n",
       "Name: Product, dtype: int64"
      ]
     },
     "execution_count": 13,
     "metadata": {},
     "output_type": "execute_result"
    }
   ],
   "source": [
    "data[\"Product\"].value_counts()"
   ]
  },
  {
   "cell_type": "code",
   "execution_count": null,
   "id": "753335b0",
   "metadata": {},
   "outputs": [],
   "source": []
  },
  {
   "cell_type": "code",
   "execution_count": 14,
   "id": "3d1dd85c",
   "metadata": {
    "scrolled": false
   },
   "outputs": [
    {
     "data": {
      "text/plain": [
       "KP281    0.44\n",
       "KP481    0.33\n",
       "KP781    0.22\n",
       "Name: Product, dtype: float64"
      ]
     },
     "execution_count": 14,
     "metadata": {},
     "output_type": "execute_result"
    }
   ],
   "source": [
    "(data[\"Product\"].value_counts()/data[\"Product\"].count()).round(2)"
   ]
  },
  {
   "cell_type": "code",
   "execution_count": null,
   "id": "bcab53cc",
   "metadata": {},
   "outputs": [],
   "source": []
  },
  {
   "cell_type": "markdown",
   "id": "b1b07118",
   "metadata": {},
   "source": [
    "### Product Probability\n",
    "- P(KP281) : 0.44\n",
    "- P(KP481) : 0.33\n",
    "- P(KP781) : 0.22"
   ]
  },
  {
   "cell_type": "code",
   "execution_count": null,
   "id": "373230fa",
   "metadata": {},
   "outputs": [],
   "source": []
  },
  {
   "cell_type": "code",
   "execution_count": 15,
   "id": "ef7a165c",
   "metadata": {},
   "outputs": [
    {
     "data": {
      "image/png": "[encoded data removed]",
      "text/plain": [
       "<Figure size 640x480 with 1 Axes>"
      ]
     },
     "metadata": {},
     "output_type": "display_data"
    }
   ],
   "source": [
    "sns.countplot(x = data[\"Product\"])\n",
    "plt.xlabel(\"Product\", fontweight = \"bold\")\n",
    "plt.ylabel(\"Count\", fontweight = \"bold\")\n",
    "plt.show()"
   ]
  },
  {
   "cell_type": "code",
   "execution_count": null,
   "id": "7b880e92",
   "metadata": {},
   "outputs": [],
   "source": []
  },
  {
   "cell_type": "markdown",
   "id": "09bb8aaa",
   "metadata": {},
   "source": [
    "## Univariate Analysis"
   ]
  },
  {
   "cell_type": "markdown",
   "id": "94d6f253",
   "metadata": {},
   "source": [
    "### Understanding the distribution of the data for the quantitative attributes:\n",
    "- Age\n",
    "- Education\n",
    "- Usage\n",
    "- Fitness\n",
    "- Income\n",
    "- Miles"
   ]
  },
  {
   "cell_type": "code",
   "execution_count": null,
   "id": "ff06e753",
   "metadata": {},
   "outputs": [],
   "source": []
  },
  {
   "cell_type": "code",
   "execution_count": 16,
   "id": "ce5f0881",
   "metadata": {},
   "outputs": [
    {
     "data": {
      "image/png": "[encoded data removed]",
      "text/plain": [
       "<Figure size 1200x1000 with 6 Axes>"
      ]
     },
     "metadata": {},
     "output_type": "display_data"
    }
   ],
   "source": [
    "fig, axis = plt.subplots(nrows=3, ncols=2, figsize=(12, 10))\n",
    "\n",
    "sns.histplot(data=data, x=\"Age\", kde=True, ax=axis[0,0])\n",
    "sns.histplot(data=data, x=\"Education\", kde=True, ax=axis[0,1])\n",
    "sns.histplot(data=data, x=\"Usage\", kde=True, ax=axis[1,0])\n",
    "sns.histplot(data=data, x=\"Fitness\", kde=True, ax=axis[1,1])\n",
    "sns.histplot(data=data, x=\"Income\", kde=True, ax=axis[2,0])\n",
    "sns.histplot(data=data, x=\"Miles\", kde=True, ax=axis[2,1])\n",
    "plt.show()"
   ]
  },
  {
   "cell_type": "markdown",
   "id": "5fce3412",
   "metadata": {},
   "source": [
    "## Insights after initial exploration\n",
    "- There are no missing values in the data.\n",
    "- There are 3 unique products in the dataset.\n",
    "- The given data has 180 records and 9 features.\n",
    "- Out of the 180 users, 104 are males and 74 are females.\n",
    "- 107 users are partnered and 73 are single.\n",
    "- The average age of buyers is 28.79 years.\n",
    "- The average income of the users is 53717.54$.\n",
    "- Most of the people(75%) are having less than 16 years of education.\n",
    "- 44.44% users have bought the entry level(KP281), 33.33% users have bought medium level(KP481) and 22.22% uers have bought the advanced level(KP781) treadmills."
   ]
  },
  {
   "cell_type": "code",
   "execution_count": null,
   "id": "02c6c981",
   "metadata": {},
   "outputs": [],
   "source": []
  },
  {
   "cell_type": "markdown",
   "id": "caf31b83",
   "metadata": {},
   "source": [
    "## Analysing linear relationship between features"
   ]
  },
  {
   "cell_type": "code",
   "execution_count": null,
   "id": "f593d287",
   "metadata": {},
   "outputs": [],
   "source": []
  },
  {
   "cell_type": "code",
   "execution_count": 17,
   "id": "03f835ae",
   "metadata": {},
   "outputs": [
    {
     "name": "stderr",
     "output_type": "stream",
     "text": [
      "C:\\Users\\ARYAN\\AppData\\Local\\Temp\\ipykernel_3776\\3574203304.py:2: FutureWarning: The default value of numeric_only in DataFrame.corr is deprecated. In a future version, it will default to False. Select only valid columns or specify the value of numeric_only to silence this warning.\n",
      "  sns.heatmap(data.corr(),\n"
     ]
    },
    {
     "data": {
      "image/png": "[encoded data removed]",
      "text/plain": [
       "<Figure size 800x600 with 2 Axes>"
      ]
     },
     "metadata": {},
     "output_type": "display_data"
    }
   ],
   "source": [
    "plt.figure(figsize = (8,6))\n",
    "sns.heatmap(data.corr(), \n",
    "            cmap = \"Blues\", \n",
    "            fmt = \"0.1f\",\n",
    "            annot = True, \n",
    "            annot_kws = {\"fontfamily\" : \"serif\",\n",
    "                            \"fontweight\" : \"bold\"})\n",
    "plt.show()"
   ]
  },
  {
   "cell_type": "code",
   "execution_count": null,
   "id": "231d2f76",
   "metadata": {},
   "outputs": [],
   "source": []
  },
  {
   "cell_type": "markdown",
   "id": "891394ec",
   "metadata": {},
   "source": [
    "## Linear relationship between the features\n",
    "- \"Usage\" and \"Fitness\" are highly correlated with \"Miles\"\n",
    "- \"Usage\" and \"Fitness\" are highly correlated with each other\n",
    "- \"Income\" and \"Education\" seem to be fairly correlated with each other"
   ]
  },
  {
   "cell_type": "code",
   "execution_count": null,
   "id": "0ca8b757",
   "metadata": {},
   "outputs": [],
   "source": []
  },
  {
   "cell_type": "code",
   "execution_count": 18,
   "id": "7790e145",
   "metadata": {
    "scrolled": true
   },
   "outputs": [
    {
     "data": {
      "image/png": "[encoded data removed]",
      "text/plain": [
       "<Figure size 1200x400 with 3 Axes>"
      ]
     },
     "metadata": {},
     "output_type": "display_data"
    }
   ],
   "source": [
    "fig, axs = plt.subplots(1,3, figsize = (12, 4))\n",
    "plt.suptitle(\"Income, Age and Income of Buyers\")\n",
    "sns.boxplot(ax = axs[0], x = data[\"Income\"], orient = 'h', color = \"blue\")\n",
    "sns.boxplot(ax = axs[1], x = data[\"Age\"], orient = 'h', color = \"green\")\n",
    "sns.boxplot(ax = axs[2], x = data[\"Miles\"], orient = 'h', color = \"yellow\")\n",
    "plt.show()"
   ]
  },
  {
   "cell_type": "code",
   "execution_count": null,
   "id": "3bc0443b",
   "metadata": {},
   "outputs": [],
   "source": []
  },
  {
   "cell_type": "code",
   "execution_count": 19,
   "id": "48ec2be5",
   "metadata": {},
   "outputs": [
    {
     "data": {
      "text/plain": [
       "80581.875"
      ]
     },
     "execution_count": 19,
     "metadata": {},
     "output_type": "execute_result"
    }
   ],
   "source": [
    "inc_outliers = 58668 + 1.5*(58668 - 44058.75)   #75th percentile + 1.5*IQR\n",
    "inc_outliers"
   ]
  },
  {
   "cell_type": "code",
   "execution_count": null,
   "id": "31ae4bb7",
   "metadata": {},
   "outputs": [],
   "source": []
  },
  {
   "cell_type": "code",
   "execution_count": 20,
   "id": "fb9ae046",
   "metadata": {},
   "outputs": [
    {
     "data": {
      "text/plain": [
       "19"
      ]
     },
     "execution_count": 20,
     "metadata": {},
     "output_type": "execute_result"
    }
   ],
   "source": [
    "len(data.loc[data[\"Income\"] > 80581.875])"
   ]
  },
  {
   "cell_type": "code",
   "execution_count": null,
   "id": "bd2a158e",
   "metadata": {},
   "outputs": [],
   "source": []
  },
  {
   "cell_type": "code",
   "execution_count": 21,
   "id": "ca109d86",
   "metadata": {},
   "outputs": [
    {
     "data": {
      "text/plain": [
       "46.5"
      ]
     },
     "execution_count": 21,
     "metadata": {},
     "output_type": "execute_result"
    }
   ],
   "source": [
    "age_outliers =33 + 1.5*(33 - 24)\n",
    "age_outliers"
   ]
  },
  {
   "cell_type": "code",
   "execution_count": null,
   "id": "8152dafe",
   "metadata": {},
   "outputs": [],
   "source": []
  },
  {
   "cell_type": "code",
   "execution_count": 22,
   "id": "4e4abb41",
   "metadata": {},
   "outputs": [
    {
     "data": {
      "text/plain": [
       "5"
      ]
     },
     "execution_count": 22,
     "metadata": {},
     "output_type": "execute_result"
    }
   ],
   "source": [
    "len(data.loc[data[\"Age\"] > 46.5])"
   ]
  },
  {
   "cell_type": "code",
   "execution_count": null,
   "id": "d3d414e1",
   "metadata": {},
   "outputs": [],
   "source": []
  },
  {
   "cell_type": "code",
   "execution_count": 23,
   "id": "9ff0a808",
   "metadata": {},
   "outputs": [
    {
     "data": {
      "text/plain": [
       "187.875"
      ]
     },
     "execution_count": 23,
     "metadata": {},
     "output_type": "execute_result"
    }
   ],
   "source": [
    "miles_outliers = 114.75 + 1.5*(114.75 - 66)\n",
    "miles_outliers"
   ]
  },
  {
   "cell_type": "code",
   "execution_count": null,
   "id": "04437ca6",
   "metadata": {},
   "outputs": [],
   "source": []
  },
  {
   "cell_type": "code",
   "execution_count": 24,
   "id": "e5d68ebb",
   "metadata": {},
   "outputs": [
    {
     "data": {
      "text/plain": [
       "13"
      ]
     },
     "execution_count": 24,
     "metadata": {},
     "output_type": "execute_result"
    }
   ],
   "source": [
    "len(data.loc[data[\"Miles\"] > 187.75])"
   ]
  },
  {
   "cell_type": "code",
   "execution_count": null,
   "id": "73d3d7d0",
   "metadata": {},
   "outputs": [],
   "source": []
  },
  {
   "cell_type": "markdown",
   "id": "a613728e",
   "metadata": {},
   "source": [
    "### Outliers\n",
    "- The median income of buyers is 50596.50 dollars and income greater than 80581.875$ are outliers. There are 19 such people.\n",
    "- The median age of the buyers is 26 years and people aged above 46.5 are treated as outliers. There are 5 such people.\n",
    "- The median of average number of miles the customer expects to walk/run each week is 94 miles and people expecting to run more than 187.875 miles are treated as outliers. There are 13 such people."
   ]
  },
  {
   "cell_type": "code",
   "execution_count": null,
   "id": "16b3d9bb",
   "metadata": {},
   "outputs": [],
   "source": []
  },
  {
   "cell_type": "code",
   "execution_count": 25,
   "id": "d12f9169",
   "metadata": {},
   "outputs": [
    {
     "data": {
      "text/html": [
       "<div>\n",
       "<style scoped>\n",
       "    .dataframe tbody tr th:only-of-type {\n",
       "        vertical-align: middle;\n",
       "    }\n",
       "\n",
       "    .dataframe tbody tr th {\n",
       "        vertical-align: top;\n",
       "    }\n",
       "\n",
       "    .dataframe thead th {\n",
       "        text-align: right;\n",
       "    }\n",
       "</style>\n",
       "<table border=\"1\" class=\"dataframe\">\n",
       "  <thead>\n",
       "    <tr style=\"text-align: right;\">\n",
       "      <th>Product</th>\n",
       "      <th>KP281</th>\n",
       "      <th>KP481</th>\n",
       "      <th>KP781</th>\n",
       "    </tr>\n",
       "    <tr>\n",
       "      <th>Gender</th>\n",
       "      <th></th>\n",
       "      <th></th>\n",
       "      <th></th>\n",
       "    </tr>\n",
       "  </thead>\n",
       "  <tbody>\n",
       "    <tr>\n",
       "      <th>Female</th>\n",
       "      <td>40</td>\n",
       "      <td>29</td>\n",
       "      <td>7</td>\n",
       "    </tr>\n",
       "    <tr>\n",
       "      <th>Male</th>\n",
       "      <td>40</td>\n",
       "      <td>31</td>\n",
       "      <td>33</td>\n",
       "    </tr>\n",
       "  </tbody>\n",
       "</table>\n",
       "</div>"
      ],
      "text/plain": [
       "Product  KP281  KP481  KP781\n",
       "Gender                      \n",
       "Female      40     29      7\n",
       "Male        40     31     33"
      ]
     },
     "execution_count": 25,
     "metadata": {},
     "output_type": "execute_result"
    }
   ],
   "source": [
    "gender_split = pd.crosstab(index = data[\"Gender\"], columns = data[\"Product\"])\n",
    "gender_split"
   ]
  },
  {
   "cell_type": "code",
   "execution_count": null,
   "id": "e8065487",
   "metadata": {},
   "outputs": [],
   "source": []
  },
  {
   "cell_type": "code",
   "execution_count": 26,
   "id": "2859cc60",
   "metadata": {},
   "outputs": [
    {
     "data": {
      "image/png": "[encoded data removed]",
      "text/plain": [
       "<Figure size 640x480 with 2 Axes>"
      ]
     },
     "metadata": {},
     "output_type": "display_data"
    }
   ],
   "source": [
    "sns.heatmap(gender_split, cmap = \"crest\", annot = True, annot_kws = {\"fontfamily\" : \"serif\", \n",
    "                                                                \"fontweight\" : \"bold\"}, linewidth = 1)\n",
    "plt.xlabel(\"Product Type\", fontweight = \"bold\")\n",
    "plt.ylabel(\"Gender of Buyer\", fontweight = \"bold\")\n",
    "plt.show()"
   ]
  },
  {
   "cell_type": "code",
   "execution_count": null,
   "id": "f7016693",
   "metadata": {},
   "outputs": [],
   "source": []
  },
  {
   "cell_type": "code",
   "execution_count": 27,
   "id": "d773a21a",
   "metadata": {
    "scrolled": true
   },
   "outputs": [
    {
     "data": {
      "text/html": [
       "<div>\n",
       "<style scoped>\n",
       "    .dataframe tbody tr th:only-of-type {\n",
       "        vertical-align: middle;\n",
       "    }\n",
       "\n",
       "    .dataframe tbody tr th {\n",
       "        vertical-align: top;\n",
       "    }\n",
       "\n",
       "    .dataframe thead th {\n",
       "        text-align: right;\n",
       "    }\n",
       "</style>\n",
       "<table border=\"1\" class=\"dataframe\">\n",
       "  <thead>\n",
       "    <tr style=\"text-align: right;\">\n",
       "      <th>Product</th>\n",
       "      <th>KP281</th>\n",
       "      <th>KP481</th>\n",
       "      <th>KP781</th>\n",
       "    </tr>\n",
       "    <tr>\n",
       "      <th>Gender</th>\n",
       "      <th></th>\n",
       "      <th></th>\n",
       "      <th></th>\n",
       "    </tr>\n",
       "  </thead>\n",
       "  <tbody>\n",
       "    <tr>\n",
       "      <th>Female</th>\n",
       "      <td>0.53</td>\n",
       "      <td>0.38</td>\n",
       "      <td>0.09</td>\n",
       "    </tr>\n",
       "    <tr>\n",
       "      <th>Male</th>\n",
       "      <td>0.38</td>\n",
       "      <td>0.30</td>\n",
       "      <td>0.32</td>\n",
       "    </tr>\n",
       "  </tbody>\n",
       "</table>\n",
       "</div>"
      ],
      "text/plain": [
       "Product  KP281  KP481  KP781\n",
       "Gender                      \n",
       "Female    0.53   0.38   0.09\n",
       "Male      0.38   0.30   0.32"
      ]
     },
     "execution_count": 27,
     "metadata": {},
     "output_type": "execute_result"
    }
   ],
   "source": [
    "gender_prob = pd.crosstab(index = data[\"Gender\"], columns = data[\"Product\"], normalize = \"index\")\n",
    "gender_prob.round(2)"
   ]
  },
  {
   "cell_type": "code",
   "execution_count": null,
   "id": "3f0ebf5d",
   "metadata": {},
   "outputs": [],
   "source": []
  },
  {
   "cell_type": "markdown",
   "id": "0b922721",
   "metadata": {},
   "source": [
    "### Gender V/s Product \n",
    "- P(KP281 | Female) : 0.53\n",
    "- P(KP481 | Female) : 0.38\n",
    "- P(KP781 | Female) : 0.09\n",
    "- P(KP281 | Male) : 0.38\n",
    "- P(KP481 | Male) : 0.30\n",
    "- P(KP781 | Male) : 0.32"
   ]
  },
  {
   "cell_type": "code",
   "execution_count": null,
   "id": "9b2158ec",
   "metadata": {},
   "outputs": [],
   "source": []
  },
  {
   "cell_type": "code",
   "execution_count": 28,
   "id": "240f8d6a",
   "metadata": {},
   "outputs": [
    {
     "data": {
      "image/png": "[encoded data removed]",
      "text/plain": [
       "<Figure size 1000x600 with 1 Axes>"
      ]
     },
     "metadata": {},
     "output_type": "display_data"
    }
   ],
   "source": [
    "gender_prob.plot(kind='bar', \n",
    "                        stacked=True, \n",
    "                        colormap='tab10', \n",
    "                        figsize=(10, 6))\n",
    "\n",
    "plt.legend(loc=\"upper right\", ncol=1)\n",
    "plt.xlabel(\"Gender of Buyer\", fontweight = \"bold\")\n",
    "plt.ylabel(\"Proportion\", fontweight = \"bold\")\n",
    "\n",
    "\n",
    "for n, x in enumerate([*gender_split.index.values]):\n",
    "    for (proportion, y_loc) in zip(gender_prob.loc[x],\n",
    "                                   gender_prob.loc[x].cumsum()):\n",
    "                \n",
    "        plt.text(x=n - 0.08,\n",
    "                 y=(y_loc - proportion) + (proportion / 2),\n",
    "                 s=f'{np.round(proportion*100, 1)}%', \n",
    "                 color=\"black\",\n",
    "                 fontsize=12,\n",
    "                 fontweight=\"bold\")\n",
    "\n",
    "plt.show()"
   ]
  },
  {
   "cell_type": "code",
   "execution_count": null,
   "id": "b4180458",
   "metadata": {},
   "outputs": [],
   "source": []
  },
  {
   "cell_type": "markdown",
   "id": "651a1449",
   "metadata": {},
   "source": [
    "### Gender and their product choice\n",
    "- More tham half of the females(52.6%) buy the entry level treadmills\n",
    "- Females are very less likely to buy advanced(9.2%) i.e, KP781 treadmills\n",
    "- Males are more likely to buy the entry level(38.5%) and advanced level(31.7%) treadmills"
   ]
  },
  {
   "cell_type": "code",
   "execution_count": null,
   "id": "c4838f07",
   "metadata": {},
   "outputs": [],
   "source": []
  },
  {
   "cell_type": "code",
   "execution_count": 29,
   "id": "81644ce0",
   "metadata": {
    "scrolled": false
   },
   "outputs": [
    {
     "data": {
      "text/html": [
       "<div>\n",
       "<style scoped>\n",
       "    .dataframe tbody tr th:only-of-type {\n",
       "        vertical-align: middle;\n",
       "    }\n",
       "\n",
       "    .dataframe tbody tr th {\n",
       "        vertical-align: top;\n",
       "    }\n",
       "\n",
       "    .dataframe thead th {\n",
       "        text-align: right;\n",
       "    }\n",
       "</style>\n",
       "<table border=\"1\" class=\"dataframe\">\n",
       "  <thead>\n",
       "    <tr style=\"text-align: right;\">\n",
       "      <th>Product</th>\n",
       "      <th>KP281</th>\n",
       "      <th>KP481</th>\n",
       "      <th>KP781</th>\n",
       "    </tr>\n",
       "    <tr>\n",
       "      <th>MaritalStatus</th>\n",
       "      <th></th>\n",
       "      <th></th>\n",
       "      <th></th>\n",
       "    </tr>\n",
       "  </thead>\n",
       "  <tbody>\n",
       "    <tr>\n",
       "      <th>Partnered</th>\n",
       "      <td>48</td>\n",
       "      <td>36</td>\n",
       "      <td>23</td>\n",
       "    </tr>\n",
       "    <tr>\n",
       "      <th>Single</th>\n",
       "      <td>32</td>\n",
       "      <td>24</td>\n",
       "      <td>17</td>\n",
       "    </tr>\n",
       "  </tbody>\n",
       "</table>\n",
       "</div>"
      ],
      "text/plain": [
       "Product        KP281  KP481  KP781\n",
       "MaritalStatus                     \n",
       "Partnered         48     36     23\n",
       "Single            32     24     17"
      ]
     },
     "execution_count": 29,
     "metadata": {},
     "output_type": "execute_result"
    }
   ],
   "source": [
    "prod_pref = pd.crosstab(index = data[\"MaritalStatus\"], columns = data[\"Product\"])\n",
    "prod_pref"
   ]
  },
  {
   "cell_type": "code",
   "execution_count": null,
   "id": "6711779d",
   "metadata": {},
   "outputs": [],
   "source": []
  },
  {
   "cell_type": "code",
   "execution_count": 30,
   "id": "61b55648",
   "metadata": {},
   "outputs": [
    {
     "data": {
      "image/png": "[encoded data removed]",
      "text/plain": [
       "<Figure size 640x480 with 2 Axes>"
      ]
     },
     "metadata": {},
     "output_type": "display_data"
    }
   ],
   "source": [
    "sns.heatmap(prod_pref, cmap = \"Blues\", annot = True, annot_kws = {\"fontfamily\" : \"serif\", \"fontweight\" : \"bold\"})\n",
    "plt.xlabel(\"Product Type\", fontweight = \"bold\")\n",
    "plt.ylabel(\"Marital Status\", fontweight = \"bold\")\n",
    "plt.show()"
   ]
  },
  {
   "cell_type": "code",
   "execution_count": null,
   "id": "c70e8450",
   "metadata": {},
   "outputs": [],
   "source": []
  },
  {
   "cell_type": "code",
   "execution_count": 31,
   "id": "615156b8",
   "metadata": {
    "scrolled": false
   },
   "outputs": [
    {
     "data": {
      "text/html": [
       "<div>\n",
       "<style scoped>\n",
       "    .dataframe tbody tr th:only-of-type {\n",
       "        vertical-align: middle;\n",
       "    }\n",
       "\n",
       "    .dataframe tbody tr th {\n",
       "        vertical-align: top;\n",
       "    }\n",
       "\n",
       "    .dataframe thead th {\n",
       "        text-align: right;\n",
       "    }\n",
       "</style>\n",
       "<table border=\"1\" class=\"dataframe\">\n",
       "  <thead>\n",
       "    <tr style=\"text-align: right;\">\n",
       "      <th>Product</th>\n",
       "      <th>KP281</th>\n",
       "      <th>KP481</th>\n",
       "      <th>KP781</th>\n",
       "    </tr>\n",
       "    <tr>\n",
       "      <th>MaritalStatus</th>\n",
       "      <th></th>\n",
       "      <th></th>\n",
       "      <th></th>\n",
       "    </tr>\n",
       "  </thead>\n",
       "  <tbody>\n",
       "    <tr>\n",
       "      <th>Partnered</th>\n",
       "      <td>0.45</td>\n",
       "      <td>0.34</td>\n",
       "      <td>0.21</td>\n",
       "    </tr>\n",
       "    <tr>\n",
       "      <th>Single</th>\n",
       "      <td>0.44</td>\n",
       "      <td>0.33</td>\n",
       "      <td>0.23</td>\n",
       "    </tr>\n",
       "  </tbody>\n",
       "</table>\n",
       "</div>"
      ],
      "text/plain": [
       "Product        KP281  KP481  KP781\n",
       "MaritalStatus                     \n",
       "Partnered       0.45   0.34   0.21\n",
       "Single          0.44   0.33   0.23"
      ]
     },
     "execution_count": 31,
     "metadata": {},
     "output_type": "execute_result"
    }
   ],
   "source": [
    "product_pref_prob = pd.crosstab(index = data[\"MaritalStatus\"], columns = data[\"Product\"], normalize = \"index\")\n",
    "product_pref_prob.round(2)"
   ]
  },
  {
   "cell_type": "code",
   "execution_count": null,
   "id": "7307869f",
   "metadata": {},
   "outputs": [],
   "source": []
  },
  {
   "cell_type": "markdown",
   "id": "db1d1424",
   "metadata": {},
   "source": [
    "### Product V/s Marital Status\n",
    "- P(KP281 | Partnered) : 0.45\n",
    "- P(KP481 | Partnered) : 0.34\n",
    "- P(KP781 | Partnered) : 0.21\n",
    "- P(KP281 | Single) : 0.44\n",
    "- P(KP481 | Single) : 0.33\n",
    "- P(KP781 | Single) : 0.23"
   ]
  },
  {
   "cell_type": "code",
   "execution_count": null,
   "id": "66f22cd4",
   "metadata": {},
   "outputs": [],
   "source": []
  },
  {
   "cell_type": "code",
   "execution_count": 32,
   "id": "2cc5505d",
   "metadata": {
    "scrolled": true
   },
   "outputs": [
    {
     "data": {
      "image/png": "[encoded data removed]",
      "text/plain": [
       "<Figure size 1000x600 with 1 Axes>"
      ]
     },
     "metadata": {},
     "output_type": "display_data"
    }
   ],
   "source": [
    "product_pref_prob.plot(kind='bar', \n",
    "                        stacked=True, \n",
    "                        colormap='tab10', \n",
    "                        figsize=(10, 6))\n",
    "\n",
    "plt.legend(loc=\"upper right\", ncol=1)\n",
    "plt.xlabel(\"Marital Status\", fontweight = \"bold\")\n",
    "plt.ylabel(\"Proportion\", fontweight = \"bold\")\n",
    "\n",
    "\n",
    "for n, x in enumerate([*prod_pref.index.values]):\n",
    "    for (proportion, y_loc) in zip(product_pref_prob.loc[x],\n",
    "                                   product_pref_prob.loc[x].cumsum()):\n",
    "                \n",
    "        plt.text(x=n - 0.08,\n",
    "                 y=(y_loc - proportion) + (proportion / 2),\n",
    "                 s=f'{np.round(proportion*100, 1)}%', \n",
    "                 color=\"black\",\n",
    "                 fontsize=12,\n",
    "                 fontweight=\"bold\")\n",
    "\n",
    "plt.show()"
   ]
  },
  {
   "cell_type": "code",
   "execution_count": null,
   "id": "7603407d",
   "metadata": {},
   "outputs": [],
   "source": []
  },
  {
   "cell_type": "markdown",
   "id": "b5328667",
   "metadata": {},
   "source": [
    "### Marital Status and their product choice\n",
    "- Entry level treadmills(KP281) are the first choice among Partnered(44.9%) and Single(43.8%)\n",
    "- Then follows treadmills(KP481) which have 33.6% in Partnered and 32.9% in Single\n",
    "- Then follows treadmills(KP781) which have 21.5% in Partnered and 23.3% in Single"
   ]
  },
  {
   "cell_type": "code",
   "execution_count": null,
   "id": "87f3a605",
   "metadata": {},
   "outputs": [],
   "source": []
  },
  {
   "cell_type": "code",
   "execution_count": 33,
   "id": "83b5d938",
   "metadata": {
    "scrolled": false
   },
   "outputs": [
    {
     "data": {
      "image/png": "[encoded data removed]",
      "text/plain": [
       "<Figure size 640x480 with 1 Axes>"
      ]
     },
     "metadata": {},
     "output_type": "display_data"
    }
   ],
   "source": [
    "N, bins, patches = plt.hist(data = data, x = \"Income\", rwidth = 0.9)"
   ]
  },
  {
   "cell_type": "code",
   "execution_count": null,
   "id": "c5f8a315",
   "metadata": {},
   "outputs": [],
   "source": []
  },
  {
   "cell_type": "code",
   "execution_count": 34,
   "id": "a00157f9",
   "metadata": {},
   "outputs": [
    {
     "data": {
      "text/plain": [
       "array([ 29562. ,  37063.9,  44565.8,  52067.7,  59569.6,  67071.5,\n",
       "        74573.4,  82075.3,  89577.2,  97079.1, 104581. ])"
      ]
     },
     "execution_count": 34,
     "metadata": {},
     "output_type": "execute_result"
    }
   ],
   "source": [
    "bins"
   ]
  },
  {
   "cell_type": "code",
   "execution_count": null,
   "id": "ba339310",
   "metadata": {},
   "outputs": [],
   "source": []
  },
  {
   "cell_type": "code",
   "execution_count": 35,
   "id": "d7a0f308",
   "metadata": {},
   "outputs": [
    {
     "data": {
      "text/plain": [
       "array([23., 26., 48., 41., 15.,  5.,  3.,  5., 10.,  4.])"
      ]
     },
     "execution_count": 35,
     "metadata": {},
     "output_type": "execute_result"
    }
   ],
   "source": [
    "N"
   ]
  },
  {
   "cell_type": "markdown",
   "id": "6af01bf7",
   "metadata": {},
   "source": [
    "#### 49.5% buyers have an income between 44565.8 and 59569.6$"
   ]
  },
  {
   "cell_type": "code",
   "execution_count": null,
   "id": "34adf38f",
   "metadata": {},
   "outputs": [],
   "source": []
  },
  {
   "cell_type": "code",
   "execution_count": 36,
   "id": "9321f73d",
   "metadata": {},
   "outputs": [],
   "source": [
    "KP281 = data.loc[data[\"Product\"] == \"KP281\"]"
   ]
  },
  {
   "cell_type": "code",
   "execution_count": 37,
   "id": "5befe501",
   "metadata": {},
   "outputs": [
    {
     "data": {
      "text/html": [
       "<div>\n",
       "<style scoped>\n",
       "    .dataframe tbody tr th:only-of-type {\n",
       "        vertical-align: middle;\n",
       "    }\n",
       "\n",
       "    .dataframe tbody tr th {\n",
       "        vertical-align: top;\n",
       "    }\n",
       "\n",
       "    .dataframe thead th {\n",
       "        text-align: right;\n",
       "    }\n",
       "</style>\n",
       "<table border=\"1\" class=\"dataframe\">\n",
       "  <thead>\n",
       "    <tr style=\"text-align: right;\">\n",
       "      <th></th>\n",
       "      <th>Product</th>\n",
       "      <th>Age</th>\n",
       "      <th>Gender</th>\n",
       "      <th>Education</th>\n",
       "      <th>MaritalStatus</th>\n",
       "      <th>Usage</th>\n",
       "      <th>Fitness</th>\n",
       "      <th>Income</th>\n",
       "      <th>Miles</th>\n",
       "    </tr>\n",
       "  </thead>\n",
       "  <tbody>\n",
       "    <tr>\n",
       "      <th>0</th>\n",
       "      <td>KP281</td>\n",
       "      <td>18</td>\n",
       "      <td>Male</td>\n",
       "      <td>14</td>\n",
       "      <td>Single</td>\n",
       "      <td>3</td>\n",
       "      <td>4</td>\n",
       "      <td>29562</td>\n",
       "      <td>112</td>\n",
       "    </tr>\n",
       "    <tr>\n",
       "      <th>1</th>\n",
       "      <td>KP281</td>\n",
       "      <td>19</td>\n",
       "      <td>Male</td>\n",
       "      <td>15</td>\n",
       "      <td>Single</td>\n",
       "      <td>2</td>\n",
       "      <td>3</td>\n",
       "      <td>31836</td>\n",
       "      <td>75</td>\n",
       "    </tr>\n",
       "  </tbody>\n",
       "</table>\n",
       "</div>"
      ],
      "text/plain": [
       "  Product  Age Gender  Education MaritalStatus  Usage  Fitness  Income  Miles\n",
       "0   KP281   18   Male         14        Single      3        4   29562    112\n",
       "1   KP281   19   Male         15        Single      2        3   31836     75"
      ]
     },
     "execution_count": 37,
     "metadata": {},
     "output_type": "execute_result"
    }
   ],
   "source": [
    "KP281.head(2)"
   ]
  },
  {
   "cell_type": "code",
   "execution_count": null,
   "id": "18d14c1f",
   "metadata": {},
   "outputs": [],
   "source": []
  },
  {
   "cell_type": "code",
   "execution_count": 38,
   "id": "17704240",
   "metadata": {},
   "outputs": [],
   "source": [
    "KP481 = data.loc[data[\"Product\"] == \"KP481\"]"
   ]
  },
  {
   "cell_type": "code",
   "execution_count": 39,
   "id": "31348491",
   "metadata": {},
   "outputs": [
    {
     "data": {
      "text/html": [
       "<div>\n",
       "<style scoped>\n",
       "    .dataframe tbody tr th:only-of-type {\n",
       "        vertical-align: middle;\n",
       "    }\n",
       "\n",
       "    .dataframe tbody tr th {\n",
       "        vertical-align: top;\n",
       "    }\n",
       "\n",
       "    .dataframe thead th {\n",
       "        text-align: right;\n",
       "    }\n",
       "</style>\n",
       "<table border=\"1\" class=\"dataframe\">\n",
       "  <thead>\n",
       "    <tr style=\"text-align: right;\">\n",
       "      <th></th>\n",
       "      <th>Product</th>\n",
       "      <th>Age</th>\n",
       "      <th>Gender</th>\n",
       "      <th>Education</th>\n",
       "      <th>MaritalStatus</th>\n",
       "      <th>Usage</th>\n",
       "      <th>Fitness</th>\n",
       "      <th>Income</th>\n",
       "      <th>Miles</th>\n",
       "    </tr>\n",
       "  </thead>\n",
       "  <tbody>\n",
       "    <tr>\n",
       "      <th>80</th>\n",
       "      <td>KP481</td>\n",
       "      <td>19</td>\n",
       "      <td>Male</td>\n",
       "      <td>14</td>\n",
       "      <td>Single</td>\n",
       "      <td>3</td>\n",
       "      <td>3</td>\n",
       "      <td>31836</td>\n",
       "      <td>64</td>\n",
       "    </tr>\n",
       "    <tr>\n",
       "      <th>81</th>\n",
       "      <td>KP481</td>\n",
       "      <td>20</td>\n",
       "      <td>Male</td>\n",
       "      <td>14</td>\n",
       "      <td>Single</td>\n",
       "      <td>2</td>\n",
       "      <td>3</td>\n",
       "      <td>32973</td>\n",
       "      <td>53</td>\n",
       "    </tr>\n",
       "  </tbody>\n",
       "</table>\n",
       "</div>"
      ],
      "text/plain": [
       "   Product  Age Gender  Education MaritalStatus  Usage  Fitness  Income  Miles\n",
       "80   KP481   19   Male         14        Single      3        3   31836     64\n",
       "81   KP481   20   Male         14        Single      2        3   32973     53"
      ]
     },
     "execution_count": 39,
     "metadata": {},
     "output_type": "execute_result"
    }
   ],
   "source": [
    "KP481.head(2)"
   ]
  },
  {
   "cell_type": "code",
   "execution_count": null,
   "id": "c285a44b",
   "metadata": {},
   "outputs": [],
   "source": []
  },
  {
   "cell_type": "code",
   "execution_count": 40,
   "id": "a91daee0",
   "metadata": {},
   "outputs": [],
   "source": [
    "KP781 = data.loc[data[\"Product\"] == \"KP781\"]"
   ]
  },
  {
   "cell_type": "code",
   "execution_count": 41,
   "id": "807a74aa",
   "metadata": {},
   "outputs": [
    {
     "data": {
      "text/html": [
       "<div>\n",
       "<style scoped>\n",
       "    .dataframe tbody tr th:only-of-type {\n",
       "        vertical-align: middle;\n",
       "    }\n",
       "\n",
       "    .dataframe tbody tr th {\n",
       "        vertical-align: top;\n",
       "    }\n",
       "\n",
       "    .dataframe thead th {\n",
       "        text-align: right;\n",
       "    }\n",
       "</style>\n",
       "<table border=\"1\" class=\"dataframe\">\n",
       "  <thead>\n",
       "    <tr style=\"text-align: right;\">\n",
       "      <th></th>\n",
       "      <th>Product</th>\n",
       "      <th>Age</th>\n",
       "      <th>Gender</th>\n",
       "      <th>Education</th>\n",
       "      <th>MaritalStatus</th>\n",
       "      <th>Usage</th>\n",
       "      <th>Fitness</th>\n",
       "      <th>Income</th>\n",
       "      <th>Miles</th>\n",
       "    </tr>\n",
       "  </thead>\n",
       "  <tbody>\n",
       "    <tr>\n",
       "      <th>140</th>\n",
       "      <td>KP781</td>\n",
       "      <td>22</td>\n",
       "      <td>Male</td>\n",
       "      <td>14</td>\n",
       "      <td>Single</td>\n",
       "      <td>4</td>\n",
       "      <td>3</td>\n",
       "      <td>48658</td>\n",
       "      <td>106</td>\n",
       "    </tr>\n",
       "    <tr>\n",
       "      <th>141</th>\n",
       "      <td>KP781</td>\n",
       "      <td>22</td>\n",
       "      <td>Male</td>\n",
       "      <td>16</td>\n",
       "      <td>Single</td>\n",
       "      <td>3</td>\n",
       "      <td>5</td>\n",
       "      <td>54781</td>\n",
       "      <td>120</td>\n",
       "    </tr>\n",
       "  </tbody>\n",
       "</table>\n",
       "</div>"
      ],
      "text/plain": [
       "    Product  Age Gender  Education MaritalStatus  Usage  Fitness  Income  \\\n",
       "140   KP781   22   Male         14        Single      4        3   48658   \n",
       "141   KP781   22   Male         16        Single      3        5   54781   \n",
       "\n",
       "     Miles  \n",
       "140    106  \n",
       "141    120  "
      ]
     },
     "execution_count": 41,
     "metadata": {},
     "output_type": "execute_result"
    }
   ],
   "source": [
    "KP781.head(2)"
   ]
  },
  {
   "cell_type": "code",
   "execution_count": null,
   "id": "09cc449b",
   "metadata": {},
   "outputs": [],
   "source": []
  },
  {
   "cell_type": "code",
   "execution_count": 42,
   "id": "6821adf6",
   "metadata": {
    "scrolled": true
   },
   "outputs": [
    {
     "data": {
      "image/png": "[encoded data removed]",
      "text/plain": [
       "<Figure size 1800x600 with 3 Axes>"
      ]
     },
     "metadata": {},
     "output_type": "display_data"
    }
   ],
   "source": [
    "fig, axes = plt.subplots(1, 3, figsize = (18, 6))\n",
    "fig.suptitle(\"Analysis of Income V/s the Treadmill bought\", fontweight = \"bold\")\n",
    "sns.boxplot(ax= axes[0], x = KP281[\"Income\"], color = \"blue\")\n",
    "axes[0].set_title(\"Income of Users who bought KP281\")\n",
    "sns.boxplot(ax= axes[1], x = KP481[\"Income\"], color = \"purple\")\n",
    "axes[1].set_title(\"Income of Users who bought KP481\")\n",
    "sns.boxplot(ax= axes[2], x = KP781[\"Income\"], color = \"brown\")\n",
    "axes[2].set_title(\"Income of Users who bought KP781\")\n",
    "plt.show()"
   ]
  },
  {
   "cell_type": "markdown",
   "id": "960983a6",
   "metadata": {},
   "source": [
    "## From the above boxplots :"
   ]
  },
  {
   "cell_type": "code",
   "execution_count": null,
   "id": "2167c3da",
   "metadata": {},
   "outputs": [],
   "source": []
  },
  {
   "cell_type": "markdown",
   "id": "345ac382",
   "metadata": {},
   "source": [
    "### KP281\n",
    "- The median income of the people buying KP281 is 46617 $.\n",
    "- In comparison to buyers' income of KP481 and KP781, income of KP281 buyers shows a medium spread."
   ]
  },
  {
   "cell_type": "markdown",
   "id": "1ae43dfe",
   "metadata": {},
   "source": [
    "### KP481\n",
    "- The median income of the people buying KP481 is 49459.50 $.\n",
    "- In comparison to buyers' income of KP281 and KP781, income of KP281 buyers shows the least spread."
   ]
  },
  {
   "cell_type": "markdown",
   "id": "9eb200a7",
   "metadata": {},
   "source": [
    "### KP781\n",
    "- The median income of the people buying KP281 is 76568 $.\n",
    "- In comparison to buyers' income of KP281 and KP481, income of KP281 buyers shows the maximum spread."
   ]
  },
  {
   "cell_type": "code",
   "execution_count": null,
   "id": "d8b7c1e7",
   "metadata": {},
   "outputs": [],
   "source": []
  },
  {
   "cell_type": "code",
   "execution_count": 43,
   "id": "30cabacd",
   "metadata": {},
   "outputs": [
    {
     "data": {
      "image/png": "[encoded data removed]",
      "text/plain": [
       "<Figure size 2000x600 with 3 Axes>"
      ]
     },
     "metadata": {},
     "output_type": "display_data"
    }
   ],
   "source": [
    "fig, axes = plt.subplots(1, 3, figsize=(20, 6))\n",
    "fig.suptitle('''Analysis of Users' Age V/s the Treadmill bought''', fontweight = \"bold\")\n",
    "sns.boxplot(ax=axes[0], x=KP281[\"Age\"],color = \"seagreen\")\n",
    "axes[0].set_title(\"Age of Users who bought KP281\")\n",
    "sns.boxplot(ax=axes[1], x=KP481[\"Age\"], color = \"maroon\")\n",
    "axes[1].set_title(\"Age of Users who bought KP481\")\n",
    "sns.boxplot(ax=axes[2], x=KP781[\"Age\"], color = \"yellow\")\n",
    "axes[2].set_title(\"Age of Users who bought KP781\")\n",
    "plt.show()"
   ]
  },
  {
   "cell_type": "markdown",
   "id": "723283ce",
   "metadata": {},
   "source": [
    "### As per the above boxplots\n",
    "- All the three boxplots are righlty skewed\n",
    "- 50% of the people buying KP281 are aged between 18 - 26 years\n",
    "- 50% of the people buying KP481 are aged between 19 - 26 years\n",
    "- 50% of the people buying KP781 are aged between 22 - 27 years"
   ]
  },
  {
   "cell_type": "code",
   "execution_count": null,
   "id": "c63f2e70",
   "metadata": {},
   "outputs": [],
   "source": []
  },
  {
   "cell_type": "code",
   "execution_count": 44,
   "id": "ab0b180d",
   "metadata": {
    "scrolled": false
   },
   "outputs": [
    {
     "name": "stderr",
     "output_type": "stream",
     "text": [
      "C:\\Users\\ARYAN\\AppData\\Local\\Temp\\ipykernel_3776\\4047030278.py:1: FutureWarning: Indexing with multiple keys (implicitly converted to a tuple of keys) will be deprecated, use a list instead.\n",
      "  fit_usage = data.groupby(\"Product\")[\"Fitness\", \"Usage\"].mean()\n"
     ]
    },
    {
     "data": {
      "text/html": [
       "<div>\n",
       "<style scoped>\n",
       "    .dataframe tbody tr th:only-of-type {\n",
       "        vertical-align: middle;\n",
       "    }\n",
       "\n",
       "    .dataframe tbody tr th {\n",
       "        vertical-align: top;\n",
       "    }\n",
       "\n",
       "    .dataframe thead th {\n",
       "        text-align: right;\n",
       "    }\n",
       "</style>\n",
       "<table border=\"1\" class=\"dataframe\">\n",
       "  <thead>\n",
       "    <tr style=\"text-align: right;\">\n",
       "      <th></th>\n",
       "      <th>Fitness</th>\n",
       "      <th>Usage</th>\n",
       "    </tr>\n",
       "    <tr>\n",
       "      <th>Product</th>\n",
       "      <th></th>\n",
       "      <th></th>\n",
       "    </tr>\n",
       "  </thead>\n",
       "  <tbody>\n",
       "    <tr>\n",
       "      <th>KP281</th>\n",
       "      <td>2.9625</td>\n",
       "      <td>3.087500</td>\n",
       "    </tr>\n",
       "    <tr>\n",
       "      <th>KP481</th>\n",
       "      <td>2.9000</td>\n",
       "      <td>3.066667</td>\n",
       "    </tr>\n",
       "    <tr>\n",
       "      <th>KP781</th>\n",
       "      <td>4.6250</td>\n",
       "      <td>4.775000</td>\n",
       "    </tr>\n",
       "  </tbody>\n",
       "</table>\n",
       "</div>"
      ],
      "text/plain": [
       "         Fitness     Usage\n",
       "Product                   \n",
       "KP281     2.9625  3.087500\n",
       "KP481     2.9000  3.066667\n",
       "KP781     4.6250  4.775000"
      ]
     },
     "execution_count": 44,
     "metadata": {},
     "output_type": "execute_result"
    }
   ],
   "source": [
    "fit_usage = data.groupby(\"Product\")[\"Fitness\", \"Usage\"].mean()\n",
    "fit_usage"
   ]
  },
  {
   "cell_type": "code",
   "execution_count": null,
   "id": "479e8418",
   "metadata": {},
   "outputs": [],
   "source": []
  },
  {
   "cell_type": "code",
   "execution_count": 45,
   "id": "05940100",
   "metadata": {
    "scrolled": true
   },
   "outputs": [
    {
     "data": {
      "image/png": "[encoded data removed]",
      "text/plain": [
       "<Figure size 1400x1000 with 4 Axes>"
      ]
     },
     "metadata": {},
     "output_type": "display_data"
    }
   ],
   "source": [
    "fig, axes = plt.subplots(2,2, figsize = (14, 10))\n",
    "plt.suptitle(\"Impact of Fitness and Usage on the product bought\", fontweight = \"bold\")\n",
    "sns.barplot(ax = axes[0, 0], data = data, x = \"Product\", y = \"Usage\", hue = \"Gender\", palette = \"pastel\")\n",
    "axes[0, 0].set(title = \"Gender-wise Product's Usage\")\n",
    "sns.barplot(ax = axes[0, 1], data = data, x = \"Product\", y = \"Usage\", hue = \"MaritalStatus\", palette = \"bright\")\n",
    "axes[0, 1].set(title = \"Marital Staus-wise Product's Usage\")\n",
    "sns.barplot(ax = axes[1, 0], data = data, x = \"Product\", y = \"Fitness\", hue = \"Gender\", palette = \"pastel\")\n",
    "axes[1, 0].set(title = \"Gender-wise Fitness levels\")\n",
    "sns.barplot(ax = axes[1, 1], data = data, x = \"Product\", y = \"Fitness\", hue = \"MaritalStatus\", palette = \"bright\")\n",
    "axes[1, 1].set(title = \"Marital Status-wise Fitness Level\")\n",
    "plt.show()"
   ]
  },
  {
   "cell_type": "markdown",
   "id": "2d92305c",
   "metadata": {},
   "source": [
    "### As per the following barplots\n",
    "- Most of the people independent of their gender and marital status would purchase a KP281 or KP481 for usage of around 3 times per week.\n",
    "- Most of the people independent of their gender and marital status would purchase a KP781 for usage of close to 5 times per week.\n",
    "- Most of the people buying KP281 and KP481 have given themselves a fitness score of almost 3 independent of their gender and marital status.\n",
    "- Most of the people buying KP781 have given themselves a fitness score of almost 5 independent of their gender and marital status."
   ]
  },
  {
   "cell_type": "code",
   "execution_count": null,
   "id": "4beadb95",
   "metadata": {},
   "outputs": [],
   "source": []
  },
  {
   "cell_type": "markdown",
   "id": "e143d60a",
   "metadata": {},
   "source": [
    "## Customer Profiling"
   ]
  },
  {
   "cell_type": "markdown",
   "id": "03583e98",
   "metadata": {},
   "source": [
    "### On the basis of Gender and Age\n",
    "- Age : 18 - 26 & Gender : Male = Young Male\n",
    "- Age : 18 - 26 & Gender : Female = Young Female\n",
    "- Age : 27 - 40 & Gender : Male = Mid-aged Male\n",
    "- Age : 27 - 40 & Gender : Female = Mid-aged Female\n",
    "- Age : 41 - 50 & Gender = Male = Elderly Male\n",
    "- Age : 41 - 50 & Gender = Female = Elderly Female\""
   ]
  },
  {
   "cell_type": "code",
   "execution_count": null,
   "id": "a2e3f817",
   "metadata": {},
   "outputs": [],
   "source": []
  },
  {
   "cell_type": "code",
   "execution_count": 46,
   "id": "d8f002cd",
   "metadata": {},
   "outputs": [],
   "source": [
    "def cat(x):\n",
    "    if ((x[\"Age\"] >= 18) & (x[\"Age\"] <= 26)) & (x[\"Gender\"] == \"Male\"):\n",
    "        return \"Young Male\"\n",
    "    elif ((x[\"Age\"] >= 18) & (x[\"Age\"] <= 26)) & (x[\"Gender\"] == \"Female\"):\n",
    "        return \"Young Female\"\n",
    "    elif ((x[\"Age\"] > 26) & (x[\"Age\"]<= 40)) & (x[\"Gender\"] == \"Male\"):\n",
    "        return \"Mid-aged Male\"\n",
    "    elif ((x[\"Age\"] > 26) & (x[\"Age\"]<= 40)) & (x[\"Gender\"] == \"Female\"):\n",
    "        return \"Mid-aged Female\"\n",
    "    elif ((x[\"Age\"] > 40) & (x[\"Age\"]<= 50)) & (x[\"Gender\"] == \"Male\"):\n",
    "        return \"Elderly Male\"\n",
    "    elif ((x[\"Age\"] > 40) & (x[\"Age\"]<= 50)) & (x[\"Gender\"] == \"Female\"):\n",
    "        return \"Elderly Female\""
   ]
  },
  {
   "cell_type": "code",
   "execution_count": null,
   "id": "cc213683",
   "metadata": {},
   "outputs": [],
   "source": []
  },
  {
   "cell_type": "code",
   "execution_count": 47,
   "id": "6732cae8",
   "metadata": {},
   "outputs": [],
   "source": [
    "data[\"Category\"] = data.apply(cat, axis = 1)"
   ]
  },
  {
   "cell_type": "code",
   "execution_count": null,
   "id": "cf049744",
   "metadata": {},
   "outputs": [],
   "source": []
  },
  {
   "cell_type": "markdown",
   "id": "0016a152",
   "metadata": {},
   "source": [
    "### On the basis of Fitness score\n",
    "- Fitness Score >= 4 : Extremely Fit\n",
    "- Fitness Score = 3 : Moderately Fit\n",
    "- Fitness Score < 3 : Unfit"
   ]
  },
  {
   "cell_type": "code",
   "execution_count": null,
   "id": "3dc661fc",
   "metadata": {},
   "outputs": [],
   "source": []
  },
  {
   "cell_type": "code",
   "execution_count": 48,
   "id": "f33b0cd7",
   "metadata": {},
   "outputs": [],
   "source": [
    "def fit(x):\n",
    "    if (x >= 4):\n",
    "        return \"Extremely Fit\"\n",
    "    elif (x == 3):\n",
    "        return \"Moderately Fit\"\n",
    "    else :\n",
    "        return \"Unfit\""
   ]
  },
  {
   "cell_type": "code",
   "execution_count": null,
   "id": "0f89ab1d",
   "metadata": {},
   "outputs": [],
   "source": []
  },
  {
   "cell_type": "code",
   "execution_count": 49,
   "id": "a7e0dd01",
   "metadata": {},
   "outputs": [],
   "source": [
    "data[\"Fit\"] = data[\"Fitness\"].apply(fit)"
   ]
  },
  {
   "cell_type": "code",
   "execution_count": null,
   "id": "556a835d",
   "metadata": {},
   "outputs": [],
   "source": []
  },
  {
   "cell_type": "markdown",
   "id": "f5e96b12",
   "metadata": {},
   "source": [
    "### On the basis of Income\n",
    "- Income between 29561 and 45480 = Low\n",
    "- Income between 45481 and 54576 = Moderate\n",
    "- Income between 54577 and 104581 = High"
   ]
  },
  {
   "cell_type": "code",
   "execution_count": null,
   "id": "fe6f951a",
   "metadata": {},
   "outputs": [],
   "source": []
  },
  {
   "cell_type": "code",
   "execution_count": 50,
   "id": "85f3204e",
   "metadata": {},
   "outputs": [
    {
     "data": {
      "text/plain": [
       "104581"
      ]
     },
     "execution_count": 50,
     "metadata": {},
     "output_type": "execute_result"
    }
   ],
   "source": [
    "data[\"Income\"].max()"
   ]
  },
  {
   "cell_type": "code",
   "execution_count": null,
   "id": "3c02cf61",
   "metadata": {},
   "outputs": [],
   "source": []
  },
  {
   "cell_type": "code",
   "execution_count": 51,
   "id": "60a3a2e2",
   "metadata": {},
   "outputs": [],
   "source": [
    "income_bins = [data[\"Income\"].min() - 1, np.percentile(data[\"Income\"], 33), np.percentile(data[\"Income\"], 66), data[\"Income\"].max()]"
   ]
  },
  {
   "cell_type": "code",
   "execution_count": null,
   "id": "8fc0c937",
   "metadata": {},
   "outputs": [],
   "source": []
  },
  {
   "cell_type": "code",
   "execution_count": 52,
   "id": "90bc8a18",
   "metadata": {},
   "outputs": [],
   "source": [
    "income_labels = [\"Low\", \"Moderate\", \"High\"]"
   ]
  },
  {
   "cell_type": "code",
   "execution_count": null,
   "id": "ad7d9cf6",
   "metadata": {},
   "outputs": [],
   "source": []
  },
  {
   "cell_type": "code",
   "execution_count": 53,
   "id": "f6428437",
   "metadata": {},
   "outputs": [],
   "source": [
    "data[\"Income Slab\"] = pd.cut(data[\"Income\"], bins = income_bins, labels = income_labels)"
   ]
  },
  {
   "cell_type": "code",
   "execution_count": null,
   "id": "8e5d52d7",
   "metadata": {},
   "outputs": [],
   "source": []
  },
  {
   "cell_type": "markdown",
   "id": "9b98e412",
   "metadata": {},
   "source": [
    "### Dataframe now"
   ]
  },
  {
   "cell_type": "code",
   "execution_count": 54,
   "id": "95093d9a",
   "metadata": {},
   "outputs": [
    {
     "data": {
      "text/html": [
       "<div>\n",
       "<style scoped>\n",
       "    .dataframe tbody tr th:only-of-type {\n",
       "        vertical-align: middle;\n",
       "    }\n",
       "\n",
       "    .dataframe tbody tr th {\n",
       "        vertical-align: top;\n",
       "    }\n",
       "\n",
       "    .dataframe thead th {\n",
       "        text-align: right;\n",
       "    }\n",
       "</style>\n",
       "<table border=\"1\" class=\"dataframe\">\n",
       "  <thead>\n",
       "    <tr style=\"text-align: right;\">\n",
       "      <th></th>\n",
       "      <th>Product</th>\n",
       "      <th>Age</th>\n",
       "      <th>Gender</th>\n",
       "      <th>Education</th>\n",
       "      <th>MaritalStatus</th>\n",
       "      <th>Usage</th>\n",
       "      <th>Fitness</th>\n",
       "      <th>Income</th>\n",
       "      <th>Miles</th>\n",
       "      <th>Category</th>\n",
       "      <th>Fit</th>\n",
       "      <th>Income Slab</th>\n",
       "    </tr>\n",
       "  </thead>\n",
       "  <tbody>\n",
       "    <tr>\n",
       "      <th>0</th>\n",
       "      <td>KP281</td>\n",
       "      <td>18</td>\n",
       "      <td>Male</td>\n",
       "      <td>14</td>\n",
       "      <td>Single</td>\n",
       "      <td>3</td>\n",
       "      <td>4</td>\n",
       "      <td>29562</td>\n",
       "      <td>112</td>\n",
       "      <td>Young Male</td>\n",
       "      <td>Extremely Fit</td>\n",
       "      <td>Low</td>\n",
       "    </tr>\n",
       "    <tr>\n",
       "      <th>1</th>\n",
       "      <td>KP281</td>\n",
       "      <td>19</td>\n",
       "      <td>Male</td>\n",
       "      <td>15</td>\n",
       "      <td>Single</td>\n",
       "      <td>2</td>\n",
       "      <td>3</td>\n",
       "      <td>31836</td>\n",
       "      <td>75</td>\n",
       "      <td>Young Male</td>\n",
       "      <td>Moderately Fit</td>\n",
       "      <td>Low</td>\n",
       "    </tr>\n",
       "    <tr>\n",
       "      <th>2</th>\n",
       "      <td>KP281</td>\n",
       "      <td>19</td>\n",
       "      <td>Female</td>\n",
       "      <td>14</td>\n",
       "      <td>Partnered</td>\n",
       "      <td>4</td>\n",
       "      <td>3</td>\n",
       "      <td>30699</td>\n",
       "      <td>66</td>\n",
       "      <td>Young Female</td>\n",
       "      <td>Moderately Fit</td>\n",
       "      <td>Low</td>\n",
       "    </tr>\n",
       "    <tr>\n",
       "      <th>3</th>\n",
       "      <td>KP281</td>\n",
       "      <td>19</td>\n",
       "      <td>Male</td>\n",
       "      <td>12</td>\n",
       "      <td>Single</td>\n",
       "      <td>3</td>\n",
       "      <td>3</td>\n",
       "      <td>32973</td>\n",
       "      <td>85</td>\n",
       "      <td>Young Male</td>\n",
       "      <td>Moderately Fit</td>\n",
       "      <td>Low</td>\n",
       "    </tr>\n",
       "    <tr>\n",
       "      <th>4</th>\n",
       "      <td>KP281</td>\n",
       "      <td>20</td>\n",
       "      <td>Male</td>\n",
       "      <td>13</td>\n",
       "      <td>Partnered</td>\n",
       "      <td>4</td>\n",
       "      <td>2</td>\n",
       "      <td>35247</td>\n",
       "      <td>47</td>\n",
       "      <td>Young Male</td>\n",
       "      <td>Unfit</td>\n",
       "      <td>Low</td>\n",
       "    </tr>\n",
       "  </tbody>\n",
       "</table>\n",
       "</div>"
      ],
      "text/plain": [
       "  Product  Age  Gender  Education MaritalStatus  Usage  Fitness  Income  \\\n",
       "0   KP281   18    Male         14        Single      3        4   29562   \n",
       "1   KP281   19    Male         15        Single      2        3   31836   \n",
       "2   KP281   19  Female         14     Partnered      4        3   30699   \n",
       "3   KP281   19    Male         12        Single      3        3   32973   \n",
       "4   KP281   20    Male         13     Partnered      4        2   35247   \n",
       "\n",
       "   Miles      Category             Fit Income Slab  \n",
       "0    112    Young Male   Extremely Fit         Low  \n",
       "1     75    Young Male  Moderately Fit         Low  \n",
       "2     66  Young Female  Moderately Fit         Low  \n",
       "3     85    Young Male  Moderately Fit         Low  \n",
       "4     47    Young Male           Unfit         Low  "
      ]
     },
     "execution_count": 54,
     "metadata": {},
     "output_type": "execute_result"
    }
   ],
   "source": [
    "data.head()"
   ]
  },
  {
   "cell_type": "code",
   "execution_count": null,
   "id": "fb36eca4",
   "metadata": {},
   "outputs": [],
   "source": []
  },
  {
   "cell_type": "markdown",
   "id": "98447559",
   "metadata": {},
   "source": [
    "# Bivariate Analysis"
   ]
  },
  {
   "cell_type": "markdown",
   "id": "cbac1b0f",
   "metadata": {},
   "source": [
    "### Evaluating fitness scores"
   ]
  },
  {
   "cell_type": "code",
   "execution_count": null,
   "id": "8a25f229",
   "metadata": {},
   "outputs": [],
   "source": []
  },
  {
   "cell_type": "code",
   "execution_count": 55,
   "id": "5f791b5c",
   "metadata": {},
   "outputs": [
    {
     "data": {
      "text/plain": [
       "Moderately Fit    97\n",
       "Extremely Fit     55\n",
       "Unfit             28\n",
       "Name: Fit, dtype: int64"
      ]
     },
     "execution_count": 55,
     "metadata": {},
     "output_type": "execute_result"
    }
   ],
   "source": [
    "data[\"Fit\"].value_counts()"
   ]
  },
  {
   "cell_type": "code",
   "execution_count": null,
   "id": "38595ee7",
   "metadata": {},
   "outputs": [],
   "source": []
  },
  {
   "cell_type": "code",
   "execution_count": 56,
   "id": "63fc3d80",
   "metadata": {
    "scrolled": true
   },
   "outputs": [
    {
     "data": {
      "text/html": [
       "<div>\n",
       "<style scoped>\n",
       "    .dataframe tbody tr th:only-of-type {\n",
       "        vertical-align: middle;\n",
       "    }\n",
       "\n",
       "    .dataframe tbody tr th {\n",
       "        vertical-align: top;\n",
       "    }\n",
       "\n",
       "    .dataframe thead th {\n",
       "        text-align: right;\n",
       "    }\n",
       "</style>\n",
       "<table border=\"1\" class=\"dataframe\">\n",
       "  <thead>\n",
       "    <tr style=\"text-align: right;\">\n",
       "      <th>Product</th>\n",
       "      <th>KP281</th>\n",
       "      <th>KP481</th>\n",
       "      <th>KP781</th>\n",
       "    </tr>\n",
       "    <tr>\n",
       "      <th>Fit</th>\n",
       "      <th></th>\n",
       "      <th></th>\n",
       "      <th></th>\n",
       "    </tr>\n",
       "  </thead>\n",
       "  <tbody>\n",
       "    <tr>\n",
       "      <th>Extremely Fit</th>\n",
       "      <td>0.20</td>\n",
       "      <td>0.15</td>\n",
       "      <td>0.65</td>\n",
       "    </tr>\n",
       "    <tr>\n",
       "      <th>Moderately Fit</th>\n",
       "      <td>0.56</td>\n",
       "      <td>0.40</td>\n",
       "      <td>0.04</td>\n",
       "    </tr>\n",
       "    <tr>\n",
       "      <th>Unfit</th>\n",
       "      <td>0.54</td>\n",
       "      <td>0.46</td>\n",
       "      <td>0.00</td>\n",
       "    </tr>\n",
       "  </tbody>\n",
       "</table>\n",
       "</div>"
      ],
      "text/plain": [
       "Product         KP281  KP481  KP781\n",
       "Fit                                \n",
       "Extremely Fit    0.20   0.15   0.65\n",
       "Moderately Fit   0.56   0.40   0.04\n",
       "Unfit            0.54   0.46   0.00"
      ]
     },
     "execution_count": 56,
     "metadata": {},
     "output_type": "execute_result"
    }
   ],
   "source": [
    "pd.crosstab(index = data[\"Fit\"], columns = data[\"Product\"],normalize = \"index\").round(2)"
   ]
  },
  {
   "cell_type": "code",
   "execution_count": null,
   "id": "d3616807",
   "metadata": {},
   "outputs": [],
   "source": []
  },
  {
   "cell_type": "markdown",
   "id": "157a9eb0",
   "metadata": {},
   "source": [
    "### Fitness V/s Product\n",
    "- P(KP281 | Extremely Fit) : 0.20\n",
    "- P(KP481 | Extremely Fit) : 0.15\n",
    "- P(KP781 | Extremely Fit) : 0.65\n",
    "- P(KP281 | Moderately Fit) : 0.56\n",
    "- P(KP481 | Moderately Fit) : 0.40\n",
    "- P(KP781 | Moderately Fit) : 0.04\n",
    "- P(KP281 | Unfit) : 0.54\n",
    "- P(KP481 | Unfit) : 0.46"
   ]
  },
  {
   "cell_type": "code",
   "execution_count": 57,
   "id": "3b1f6a89",
   "metadata": {
    "scrolled": true
   },
   "outputs": [
    {
     "data": {
      "image/png": "[encoded data removed]",
      "text/plain": [
       "<Figure size 640x480 with 1 Axes>"
      ]
     },
     "metadata": {},
     "output_type": "display_data"
    }
   ],
   "source": [
    "sns.histplot(x = data[\"Product\"], y =data[\"Fit\"], color = \"green\")\n",
    "plt.xlabel(\"Fitness Category\", fontweight = \"bold\")\n",
    "plt.ylabel(\"Product Choice\", fontweight = \"bold\")\n",
    "plt.show()"
   ]
  },
  {
   "cell_type": "markdown",
   "id": "2a1b5550",
   "metadata": {},
   "source": [
    "### Depending upon the fitness, \n",
    "- If a person has rated himself/herself to be extremely fit, there is a 0.65 probability that he'll buy a KP781.\n",
    "- If a person has rated himself/herself to be moderately fit, there is a 0.55 probability that he'll buy a KP281.\n",
    "- If a person has rated himself/herself to be unfit, there is a 0.53 probability that he'll buy a KP281."
   ]
  },
  {
   "cell_type": "code",
   "execution_count": null,
   "id": "1053e251",
   "metadata": {},
   "outputs": [],
   "source": []
  },
  {
   "cell_type": "markdown",
   "id": "f7fa7a77",
   "metadata": {},
   "source": [
    "## Evaluating Age and Gender"
   ]
  },
  {
   "cell_type": "code",
   "execution_count": null,
   "id": "eae8e7ce",
   "metadata": {},
   "outputs": [],
   "source": []
  },
  {
   "cell_type": "code",
   "execution_count": 58,
   "id": "18fe6511",
   "metadata": {
    "scrolled": true
   },
   "outputs": [
    {
     "data": {
      "text/plain": [
       "Young Male         53\n",
       "Mid-aged Male      42\n",
       "Young Female       38\n",
       "Mid-aged Female    35\n",
       "Elderly Male        9\n",
       "Elderly Female      3\n",
       "Name: Category, dtype: int64"
      ]
     },
     "execution_count": 58,
     "metadata": {},
     "output_type": "execute_result"
    }
   ],
   "source": [
    "data[\"Category\"].value_counts()"
   ]
  },
  {
   "cell_type": "code",
   "execution_count": null,
   "id": "2e1179af",
   "metadata": {},
   "outputs": [],
   "source": []
  },
  {
   "cell_type": "code",
   "execution_count": 59,
   "id": "4487f472",
   "metadata": {
    "scrolled": false
   },
   "outputs": [
    {
     "data": {
      "text/html": [
       "<div>\n",
       "<style scoped>\n",
       "    .dataframe tbody tr th:only-of-type {\n",
       "        vertical-align: middle;\n",
       "    }\n",
       "\n",
       "    .dataframe tbody tr th {\n",
       "        vertical-align: top;\n",
       "    }\n",
       "\n",
       "    .dataframe thead th {\n",
       "        text-align: right;\n",
       "    }\n",
       "</style>\n",
       "<table border=\"1\" class=\"dataframe\">\n",
       "  <thead>\n",
       "    <tr style=\"text-align: right;\">\n",
       "      <th>Category</th>\n",
       "      <th>Elderly Female</th>\n",
       "      <th>Elderly Male</th>\n",
       "      <th>Mid-aged Female</th>\n",
       "      <th>Mid-aged Male</th>\n",
       "      <th>Young Female</th>\n",
       "      <th>Young Male</th>\n",
       "    </tr>\n",
       "    <tr>\n",
       "      <th>Product</th>\n",
       "      <th></th>\n",
       "      <th></th>\n",
       "      <th></th>\n",
       "      <th></th>\n",
       "      <th></th>\n",
       "      <th></th>\n",
       "    </tr>\n",
       "  </thead>\n",
       "  <tbody>\n",
       "    <tr>\n",
       "      <th>KP281</th>\n",
       "      <td>0.04</td>\n",
       "      <td>0.04</td>\n",
       "      <td>0.21</td>\n",
       "      <td>0.20</td>\n",
       "      <td>0.25</td>\n",
       "      <td>0.26</td>\n",
       "    </tr>\n",
       "    <tr>\n",
       "      <th>KP481</th>\n",
       "      <td>0.00</td>\n",
       "      <td>0.03</td>\n",
       "      <td>0.25</td>\n",
       "      <td>0.20</td>\n",
       "      <td>0.23</td>\n",
       "      <td>0.28</td>\n",
       "    </tr>\n",
       "    <tr>\n",
       "      <th>KP781</th>\n",
       "      <td>0.00</td>\n",
       "      <td>0.10</td>\n",
       "      <td>0.08</td>\n",
       "      <td>0.35</td>\n",
       "      <td>0.10</td>\n",
       "      <td>0.38</td>\n",
       "    </tr>\n",
       "  </tbody>\n",
       "</table>\n",
       "</div>"
      ],
      "text/plain": [
       "Category  Elderly Female  Elderly Male  Mid-aged Female  Mid-aged Male  \\\n",
       "Product                                                                  \n",
       "KP281               0.04          0.04             0.21           0.20   \n",
       "KP481               0.00          0.03             0.25           0.20   \n",
       "KP781               0.00          0.10             0.08           0.35   \n",
       "\n",
       "Category  Young Female  Young Male  \n",
       "Product                             \n",
       "KP281             0.25        0.26  \n",
       "KP481             0.23        0.28  \n",
       "KP781             0.10        0.38  "
      ]
     },
     "execution_count": 59,
     "metadata": {},
     "output_type": "execute_result"
    }
   ],
   "source": [
    "pd.crosstab(index = data[\"Product\"], columns = data[\"Category\"], normalize = \"index\").round(2)"
   ]
  },
  {
   "cell_type": "code",
   "execution_count": null,
   "id": "49913231",
   "metadata": {},
   "outputs": [],
   "source": []
  },
  {
   "cell_type": "markdown",
   "id": "1cae9123",
   "metadata": {},
   "source": [
    "### Category V/s Product\n",
    "- P(KP281 | Mid-aged Female) : 0.21\n",
    "- P(KP281 | Mid-aged Male) : 0.20\n",
    "- P(KP281 | Young Female) : 0.25\n",
    "- P(KP281 | Young Male) : 0.26\n",
    "- P(KP481 | Mid-aged Female) : 0.25\n",
    "- P(KP481 | Young Female) : 0.23\n",
    "- P(KP481 | Young Male) : 0.28\n",
    "- P(KP781 | Mid-aged Male) : 0.35\n",
    "- P(KP781 | Young Male) : 0.38"
   ]
  },
  {
   "cell_type": "code",
   "execution_count": null,
   "id": "6840a828",
   "metadata": {},
   "outputs": [],
   "source": []
  },
  {
   "cell_type": "code",
   "execution_count": 60,
   "id": "00320424",
   "metadata": {},
   "outputs": [
    {
     "data": {
      "image/png": "[encoded data removed]",
      "text/plain": [
       "<Figure size 640x480 with 1 Axes>"
      ]
     },
     "metadata": {},
     "output_type": "display_data"
    }
   ],
   "source": [
    "sns.histplot(x = data[\"Product\"], y = data[\"Category\"], color = \"red\")\n",
    "plt.xlabel(\"Product Type\", fontweight = \"bold\")\n",
    "plt.ylabel(\"Category\", fontweight = \"bold\")\n",
    "plt.show()"
   ]
  },
  {
   "cell_type": "code",
   "execution_count": null,
   "id": "2665af35",
   "metadata": {},
   "outputs": [],
   "source": []
  },
  {
   "cell_type": "markdown",
   "id": "bd61f118",
   "metadata": {},
   "source": [
    "### Depending upon the Category, \n",
    "- KP281 is the first choice of Young Males, Young Females, Mid-aged Females, Mid-aged Males with probabilities of 0.26, 0.25, 0.20, 0.21 respectively.\n",
    "- KP481 is a good buy for Young Males and Mid-aged Females with probabilities of 0.28 and 0.25 respectively.\n",
    "- KP781 is the perfect fit for Young Males and Mid-aged Males with probabilities of 0.375, 0.35 respectively."
   ]
  },
  {
   "cell_type": "markdown",
   "id": "86e6ad47",
   "metadata": {},
   "source": [
    "## Evaluating Incomes"
   ]
  },
  {
   "cell_type": "code",
   "execution_count": null,
   "id": "7f9eda04",
   "metadata": {},
   "outputs": [],
   "source": []
  },
  {
   "cell_type": "code",
   "execution_count": 61,
   "id": "f0a75f12",
   "metadata": {
    "scrolled": true
   },
   "outputs": [
    {
     "data": {
      "text/plain": [
       "Low         63\n",
       "Moderate    62\n",
       "High        55\n",
       "Name: Income Slab, dtype: int64"
      ]
     },
     "execution_count": 61,
     "metadata": {},
     "output_type": "execute_result"
    }
   ],
   "source": [
    "data[\"Income Slab\"].value_counts()"
   ]
  },
  {
   "cell_type": "code",
   "execution_count": null,
   "id": "4aa0e04d",
   "metadata": {},
   "outputs": [],
   "source": []
  },
  {
   "cell_type": "code",
   "execution_count": 62,
   "id": "a58158b7",
   "metadata": {
    "scrolled": true
   },
   "outputs": [
    {
     "data": {
      "text/html": [
       "<div>\n",
       "<style scoped>\n",
       "    .dataframe tbody tr th:only-of-type {\n",
       "        vertical-align: middle;\n",
       "    }\n",
       "\n",
       "    .dataframe tbody tr th {\n",
       "        vertical-align: top;\n",
       "    }\n",
       "\n",
       "    .dataframe thead th {\n",
       "        text-align: right;\n",
       "    }\n",
       "</style>\n",
       "<table border=\"1\" class=\"dataframe\">\n",
       "  <thead>\n",
       "    <tr style=\"text-align: right;\">\n",
       "      <th>Income Slab</th>\n",
       "      <th>Low</th>\n",
       "      <th>Moderate</th>\n",
       "      <th>High</th>\n",
       "    </tr>\n",
       "    <tr>\n",
       "      <th>Product</th>\n",
       "      <th></th>\n",
       "      <th></th>\n",
       "      <th></th>\n",
       "    </tr>\n",
       "  </thead>\n",
       "  <tbody>\n",
       "    <tr>\n",
       "      <th>KP281</th>\n",
       "      <td>0.49</td>\n",
       "      <td>0.38</td>\n",
       "      <td>0.14</td>\n",
       "    </tr>\n",
       "    <tr>\n",
       "      <th>KP481</th>\n",
       "      <td>0.40</td>\n",
       "      <td>0.40</td>\n",
       "      <td>0.20</td>\n",
       "    </tr>\n",
       "    <tr>\n",
       "      <th>KP781</th>\n",
       "      <td>0.00</td>\n",
       "      <td>0.20</td>\n",
       "      <td>0.80</td>\n",
       "    </tr>\n",
       "  </tbody>\n",
       "</table>\n",
       "</div>"
      ],
      "text/plain": [
       "Income Slab   Low  Moderate  High\n",
       "Product                          \n",
       "KP281        0.49      0.38  0.14\n",
       "KP481        0.40      0.40  0.20\n",
       "KP781        0.00      0.20  0.80"
      ]
     },
     "execution_count": 62,
     "metadata": {},
     "output_type": "execute_result"
    }
   ],
   "source": [
    "pd.crosstab(index = data[\"Product\"], columns = data[\"Income Slab\"], normalize = \"index\").round(2)"
   ]
  },
  {
   "cell_type": "code",
   "execution_count": null,
   "id": "98005e21",
   "metadata": {},
   "outputs": [],
   "source": []
  },
  {
   "cell_type": "markdown",
   "id": "ddce706f",
   "metadata": {},
   "source": [
    "### Income V/s Product\n",
    "- P(KP281 | Low) : 0.49\n",
    "- P(KP281 | Moderate) : 0.38\n",
    "- P(KP481 | Low) : 0.40\n",
    "- P(KP481 | Moderate) : 0.40\n",
    "- P(KP781 | High) : 0.80"
   ]
  },
  {
   "cell_type": "code",
   "execution_count": null,
   "id": "703b4a79",
   "metadata": {},
   "outputs": [],
   "source": []
  },
  {
   "cell_type": "markdown",
   "id": "6dd40efb",
   "metadata": {},
   "source": [
    "### Depending upon the Income\n",
    "- People falling in high income slab are very highly likely to buy a KP781.\n",
    "- People falling in low income slab are very highly unlikely to buy a KP781.\n",
    "- People falling in low income slabs are equally likely to buy a KP281 and KP481.\n",
    "- People falling in moderate income slabs are equally likely to buy a KP281 and KP481."
   ]
  },
  {
   "cell_type": "code",
   "execution_count": null,
   "id": "573a23de",
   "metadata": {},
   "outputs": [],
   "source": []
  },
  {
   "cell_type": "code",
   "execution_count": 63,
   "id": "759c99b2",
   "metadata": {},
   "outputs": [
    {
     "data": {
      "image/png": "[encoded data removed]",
      "text/plain": [
       "<Figure size 640x480 with 1 Axes>"
      ]
     },
     "metadata": {},
     "output_type": "display_data"
    }
   ],
   "source": [
    "sns.histplot(x = data[\"Product\"], y = data[\"Income Slab\"], cmap = \"Blues\")\n",
    "plt.xlabel(\"Product Type\", fontweight = \"bold\")\n",
    "plt.ylabel(\"Income Slab\", fontweight = \"bold\")\n",
    "plt.show()"
   ]
  },
  {
   "cell_type": "code",
   "execution_count": null,
   "id": "377d285e",
   "metadata": {},
   "outputs": [],
   "source": []
  },
  {
   "cell_type": "markdown",
   "id": "fa3549f3",
   "metadata": {},
   "source": [
    "# Multivariate Analysis"
   ]
  },
  {
   "cell_type": "code",
   "execution_count": null,
   "id": "c42e0584",
   "metadata": {},
   "outputs": [],
   "source": []
  },
  {
   "cell_type": "code",
   "execution_count": 64,
   "id": "be0ba417",
   "metadata": {},
   "outputs": [
    {
     "data": {
      "text/html": [
       "<div>\n",
       "<style scoped>\n",
       "    .dataframe tbody tr th:only-of-type {\n",
       "        vertical-align: middle;\n",
       "    }\n",
       "\n",
       "    .dataframe tbody tr th {\n",
       "        vertical-align: top;\n",
       "    }\n",
       "\n",
       "    .dataframe thead th {\n",
       "        text-align: right;\n",
       "    }\n",
       "</style>\n",
       "<table border=\"1\" class=\"dataframe\">\n",
       "  <thead>\n",
       "    <tr style=\"text-align: right;\">\n",
       "      <th></th>\n",
       "      <th></th>\n",
       "      <th></th>\n",
       "      <th>Product</th>\n",
       "    </tr>\n",
       "    <tr>\n",
       "      <th>Gender</th>\n",
       "      <th>MaritalStatus</th>\n",
       "      <th>Product</th>\n",
       "      <th></th>\n",
       "    </tr>\n",
       "  </thead>\n",
       "  <tbody>\n",
       "    <tr>\n",
       "      <th rowspan=\"6\" valign=\"top\">Female</th>\n",
       "      <th rowspan=\"3\" valign=\"top\">Partnered</th>\n",
       "      <th>KP281</th>\n",
       "      <td>27</td>\n",
       "    </tr>\n",
       "    <tr>\n",
       "      <th>KP481</th>\n",
       "      <td>15</td>\n",
       "    </tr>\n",
       "    <tr>\n",
       "      <th>KP781</th>\n",
       "      <td>4</td>\n",
       "    </tr>\n",
       "    <tr>\n",
       "      <th rowspan=\"3\" valign=\"top\">Single</th>\n",
       "      <th>KP481</th>\n",
       "      <td>14</td>\n",
       "    </tr>\n",
       "    <tr>\n",
       "      <th>KP281</th>\n",
       "      <td>13</td>\n",
       "    </tr>\n",
       "    <tr>\n",
       "      <th>KP781</th>\n",
       "      <td>3</td>\n",
       "    </tr>\n",
       "    <tr>\n",
       "      <th rowspan=\"6\" valign=\"top\">Male</th>\n",
       "      <th rowspan=\"3\" valign=\"top\">Partnered</th>\n",
       "      <th>KP281</th>\n",
       "      <td>21</td>\n",
       "    </tr>\n",
       "    <tr>\n",
       "      <th>KP481</th>\n",
       "      <td>21</td>\n",
       "    </tr>\n",
       "    <tr>\n",
       "      <th>KP781</th>\n",
       "      <td>19</td>\n",
       "    </tr>\n",
       "    <tr>\n",
       "      <th rowspan=\"3\" valign=\"top\">Single</th>\n",
       "      <th>KP281</th>\n",
       "      <td>19</td>\n",
       "    </tr>\n",
       "    <tr>\n",
       "      <th>KP781</th>\n",
       "      <td>14</td>\n",
       "    </tr>\n",
       "    <tr>\n",
       "      <th>KP481</th>\n",
       "      <td>10</td>\n",
       "    </tr>\n",
       "  </tbody>\n",
       "</table>\n",
       "</div>"
      ],
      "text/plain": [
       "                              Product\n",
       "Gender MaritalStatus Product         \n",
       "Female Partnered     KP281         27\n",
       "                     KP481         15\n",
       "                     KP781          4\n",
       "       Single        KP481         14\n",
       "                     KP281         13\n",
       "                     KP781          3\n",
       "Male   Partnered     KP281         21\n",
       "                     KP481         21\n",
       "                     KP781         19\n",
       "       Single        KP281         19\n",
       "                     KP781         14\n",
       "                     KP481         10"
      ]
     },
     "execution_count": 64,
     "metadata": {},
     "output_type": "execute_result"
    }
   ],
   "source": [
    "gender_maritalstatus = data.groupby([\"Gender\", \"MaritalStatus\"])[\"Product\"].value_counts().to_frame()\n",
    "gender_maritalstatus"
   ]
  },
  {
   "cell_type": "code",
   "execution_count": null,
   "id": "57bbb98a",
   "metadata": {},
   "outputs": [],
   "source": []
  },
  {
   "cell_type": "code",
   "execution_count": 65,
   "id": "f0fdbfb6",
   "metadata": {
    "scrolled": true
   },
   "outputs": [
    {
     "data": {
      "text/html": [
       "<div>\n",
       "<style scoped>\n",
       "    .dataframe tbody tr th:only-of-type {\n",
       "        vertical-align: middle;\n",
       "    }\n",
       "\n",
       "    .dataframe tbody tr th {\n",
       "        vertical-align: top;\n",
       "    }\n",
       "\n",
       "    .dataframe thead th {\n",
       "        text-align: right;\n",
       "    }\n",
       "</style>\n",
       "<table border=\"1\" class=\"dataframe\">\n",
       "  <thead>\n",
       "    <tr style=\"text-align: right;\">\n",
       "      <th></th>\n",
       "      <th></th>\n",
       "      <th></th>\n",
       "      <th>Product</th>\n",
       "    </tr>\n",
       "    <tr>\n",
       "      <th>Gender</th>\n",
       "      <th>MaritalStatus</th>\n",
       "      <th>Product</th>\n",
       "      <th></th>\n",
       "    </tr>\n",
       "  </thead>\n",
       "  <tbody>\n",
       "    <tr>\n",
       "      <th rowspan=\"6\" valign=\"top\">Female</th>\n",
       "      <th rowspan=\"3\" valign=\"top\">Partnered</th>\n",
       "      <th>KP281</th>\n",
       "      <td>0.59</td>\n",
       "    </tr>\n",
       "    <tr>\n",
       "      <th>KP481</th>\n",
       "      <td>0.33</td>\n",
       "    </tr>\n",
       "    <tr>\n",
       "      <th>KP781</th>\n",
       "      <td>0.09</td>\n",
       "    </tr>\n",
       "    <tr>\n",
       "      <th rowspan=\"3\" valign=\"top\">Single</th>\n",
       "      <th>KP481</th>\n",
       "      <td>0.47</td>\n",
       "    </tr>\n",
       "    <tr>\n",
       "      <th>KP281</th>\n",
       "      <td>0.43</td>\n",
       "    </tr>\n",
       "    <tr>\n",
       "      <th>KP781</th>\n",
       "      <td>0.10</td>\n",
       "    </tr>\n",
       "    <tr>\n",
       "      <th rowspan=\"6\" valign=\"top\">Male</th>\n",
       "      <th rowspan=\"3\" valign=\"top\">Partnered</th>\n",
       "      <th>KP281</th>\n",
       "      <td>0.34</td>\n",
       "    </tr>\n",
       "    <tr>\n",
       "      <th>KP481</th>\n",
       "      <td>0.34</td>\n",
       "    </tr>\n",
       "    <tr>\n",
       "      <th>KP781</th>\n",
       "      <td>0.31</td>\n",
       "    </tr>\n",
       "    <tr>\n",
       "      <th rowspan=\"3\" valign=\"top\">Single</th>\n",
       "      <th>KP281</th>\n",
       "      <td>0.44</td>\n",
       "    </tr>\n",
       "    <tr>\n",
       "      <th>KP781</th>\n",
       "      <td>0.33</td>\n",
       "    </tr>\n",
       "    <tr>\n",
       "      <th>KP481</th>\n",
       "      <td>0.23</td>\n",
       "    </tr>\n",
       "  </tbody>\n",
       "</table>\n",
       "</div>"
      ],
      "text/plain": [
       "                              Product\n",
       "Gender MaritalStatus Product         \n",
       "Female Partnered     KP281       0.59\n",
       "                     KP481       0.33\n",
       "                     KP781       0.09\n",
       "       Single        KP481       0.47\n",
       "                     KP281       0.43\n",
       "                     KP781       0.10\n",
       "Male   Partnered     KP281       0.34\n",
       "                     KP481       0.34\n",
       "                     KP781       0.31\n",
       "       Single        KP281       0.44\n",
       "                     KP781       0.33\n",
       "                     KP481       0.23"
      ]
     },
     "execution_count": 65,
     "metadata": {},
     "output_type": "execute_result"
    }
   ],
   "source": [
    "gender_maritalstatus_prob = (gender_maritalstatus/gender_maritalstatus.groupby([\"Gender\", \"MaritalStatus\"]).sum()).round(2)\n",
    "gender_maritalstatus_prob"
   ]
  },
  {
   "cell_type": "code",
   "execution_count": null,
   "id": "75894407",
   "metadata": {},
   "outputs": [],
   "source": []
  },
  {
   "cell_type": "markdown",
   "id": "76fc88d3",
   "metadata": {},
   "source": [
    "### Gender & Marital Status V/s Product\n",
    "- P(KP281 | Partnered-female) : 0.59\n",
    "- P(KP281 | Partnered-male) : 0.34\n",
    "- P(KP281 | Single-male) : 0.44\n",
    "- P(KP281 | Single-female) : 0.43\n",
    "- P(KP481 | Partnered-female) : 0.33\n",
    "- P(KP481 | Single-female) : 0.47\n",
    "- P(KP481 | Partnered-male) : 0.34\n",
    "- P(KP781 | Partnered-male) : 0.31\n",
    "- P(KP781 | Single-male) : 0.33"
   ]
  },
  {
   "cell_type": "code",
   "execution_count": null,
   "id": "c76a7749",
   "metadata": {},
   "outputs": [],
   "source": []
  },
  {
   "cell_type": "code",
   "execution_count": 66,
   "id": "c0537765",
   "metadata": {
    "scrolled": true
   },
   "outputs": [
    {
     "data": {
      "image/png": "[encoded data removed]",
      "text/plain": [
       "<Figure size 640x480 with 2 Axes>"
      ]
     },
     "metadata": {},
     "output_type": "display_data"
    }
   ],
   "source": [
    "sns.heatmap(gender_maritalstatus_prob, cmap = \"YlGnBu\", linewidth = 1)\n",
    "plt.ylabel(\"Gender and Marital Status along with product\")\n",
    "plt.title(\"Probability of Product for different Gender-MaritalStatus combinations\", fontweight = \"bold\")\n",
    "plt.show()"
   ]
  },
  {
   "cell_type": "code",
   "execution_count": null,
   "id": "92877c89",
   "metadata": {},
   "outputs": [],
   "source": []
  },
  {
   "cell_type": "markdown",
   "id": "b92e6cc4",
   "metadata": {},
   "source": [
    "### After analyzing Gender-MaritalStatus combinations, we conclude that :\n",
    "- A partnered female is highly likely to buy a KP281 treadmill.\n",
    "- A single female is equally likely to buy KP481 and KP281 treadmills.\n",
    "- A partnered male is equally likely to buy a KP281 and KP481 treadmills.\n",
    "- A single male is highly likely to buy a KP281 treadmill.\n",
    "- A single Male is a good fit to sell KP781."
   ]
  },
  {
   "cell_type": "code",
   "execution_count": null,
   "id": "ed8111d6",
   "metadata": {},
   "outputs": [],
   "source": []
  },
  {
   "cell_type": "code",
   "execution_count": 67,
   "id": "c27beb46",
   "metadata": {},
   "outputs": [
    {
     "data": {
      "text/html": [
       "<div>\n",
       "<style scoped>\n",
       "    .dataframe tbody tr th:only-of-type {\n",
       "        vertical-align: middle;\n",
       "    }\n",
       "\n",
       "    .dataframe tbody tr th {\n",
       "        vertical-align: top;\n",
       "    }\n",
       "\n",
       "    .dataframe thead th {\n",
       "        text-align: right;\n",
       "    }\n",
       "</style>\n",
       "<table border=\"1\" class=\"dataframe\">\n",
       "  <thead>\n",
       "    <tr style=\"text-align: right;\">\n",
       "      <th></th>\n",
       "      <th></th>\n",
       "      <th></th>\n",
       "      <th>Product</th>\n",
       "    </tr>\n",
       "    <tr>\n",
       "      <th>Fit</th>\n",
       "      <th>Income Slab</th>\n",
       "      <th>Product</th>\n",
       "      <th></th>\n",
       "    </tr>\n",
       "  </thead>\n",
       "  <tbody>\n",
       "    <tr>\n",
       "      <th rowspan=\"8\" valign=\"top\">Extremely Fit</th>\n",
       "      <th rowspan=\"2\" valign=\"top\">Low</th>\n",
       "      <th>KP281</th>\n",
       "      <td>6</td>\n",
       "    </tr>\n",
       "    <tr>\n",
       "      <th>KP481</th>\n",
       "      <td>3</td>\n",
       "    </tr>\n",
       "    <tr>\n",
       "      <th rowspan=\"3\" valign=\"top\">Moderate</th>\n",
       "      <th>KP781</th>\n",
       "      <td>7</td>\n",
       "    </tr>\n",
       "    <tr>\n",
       "      <th>KP481</th>\n",
       "      <td>4</td>\n",
       "    </tr>\n",
       "    <tr>\n",
       "      <th>KP281</th>\n",
       "      <td>3</td>\n",
       "    </tr>\n",
       "    <tr>\n",
       "      <th rowspan=\"3\" valign=\"top\">High</th>\n",
       "      <th>KP781</th>\n",
       "      <td>29</td>\n",
       "    </tr>\n",
       "    <tr>\n",
       "      <th>KP281</th>\n",
       "      <td>2</td>\n",
       "    </tr>\n",
       "    <tr>\n",
       "      <th>KP481</th>\n",
       "      <td>1</td>\n",
       "    </tr>\n",
       "    <tr>\n",
       "      <th rowspan=\"8\" valign=\"top\">Moderately Fit</th>\n",
       "      <th rowspan=\"2\" valign=\"top\">Low</th>\n",
       "      <th>KP281</th>\n",
       "      <td>25</td>\n",
       "    </tr>\n",
       "    <tr>\n",
       "      <th>KP481</th>\n",
       "      <td>14</td>\n",
       "    </tr>\n",
       "    <tr>\n",
       "      <th rowspan=\"3\" valign=\"top\">Moderate</th>\n",
       "      <th>KP281</th>\n",
       "      <td>22</td>\n",
       "    </tr>\n",
       "    <tr>\n",
       "      <th>KP481</th>\n",
       "      <td>15</td>\n",
       "    </tr>\n",
       "    <tr>\n",
       "      <th>KP781</th>\n",
       "      <td>1</td>\n",
       "    </tr>\n",
       "    <tr>\n",
       "      <th rowspan=\"3\" valign=\"top\">High</th>\n",
       "      <th>KP481</th>\n",
       "      <td>10</td>\n",
       "    </tr>\n",
       "    <tr>\n",
       "      <th>KP281</th>\n",
       "      <td>7</td>\n",
       "    </tr>\n",
       "    <tr>\n",
       "      <th>KP781</th>\n",
       "      <td>3</td>\n",
       "    </tr>\n",
       "    <tr>\n",
       "      <th rowspan=\"6\" valign=\"top\">Unfit</th>\n",
       "      <th rowspan=\"2\" valign=\"top\">Low</th>\n",
       "      <th>KP281</th>\n",
       "      <td>8</td>\n",
       "    </tr>\n",
       "    <tr>\n",
       "      <th>KP481</th>\n",
       "      <td>7</td>\n",
       "    </tr>\n",
       "    <tr>\n",
       "      <th rowspan=\"2\" valign=\"top\">Moderate</th>\n",
       "      <th>KP281</th>\n",
       "      <td>5</td>\n",
       "    </tr>\n",
       "    <tr>\n",
       "      <th>KP481</th>\n",
       "      <td>5</td>\n",
       "    </tr>\n",
       "    <tr>\n",
       "      <th rowspan=\"2\" valign=\"top\">High</th>\n",
       "      <th>KP281</th>\n",
       "      <td>2</td>\n",
       "    </tr>\n",
       "    <tr>\n",
       "      <th>KP481</th>\n",
       "      <td>1</td>\n",
       "    </tr>\n",
       "  </tbody>\n",
       "</table>\n",
       "</div>"
      ],
      "text/plain": [
       "                                    Product\n",
       "Fit            Income Slab Product         \n",
       "Extremely Fit  Low         KP281          6\n",
       "                           KP481          3\n",
       "               Moderate    KP781          7\n",
       "                           KP481          4\n",
       "                           KP281          3\n",
       "               High        KP781         29\n",
       "                           KP281          2\n",
       "                           KP481          1\n",
       "Moderately Fit Low         KP281         25\n",
       "                           KP481         14\n",
       "               Moderate    KP281         22\n",
       "                           KP481         15\n",
       "                           KP781          1\n",
       "               High        KP481         10\n",
       "                           KP281          7\n",
       "                           KP781          3\n",
       "Unfit          Low         KP281          8\n",
       "                           KP481          7\n",
       "               Moderate    KP281          5\n",
       "                           KP481          5\n",
       "               High        KP281          2\n",
       "                           KP481          1"
      ]
     },
     "execution_count": 67,
     "metadata": {},
     "output_type": "execute_result"
    }
   ],
   "source": [
    "fit_income = data.groupby([\"Fit\", \"Income Slab\"])[\"Product\"].value_counts().to_frame()\n",
    "fit_income"
   ]
  },
  {
   "cell_type": "code",
   "execution_count": null,
   "id": "a009cb57",
   "metadata": {},
   "outputs": [],
   "source": []
  },
  {
   "cell_type": "code",
   "execution_count": 68,
   "id": "3cdf3d9b",
   "metadata": {},
   "outputs": [
    {
     "data": {
      "text/html": [
       "<div>\n",
       "<style scoped>\n",
       "    .dataframe tbody tr th:only-of-type {\n",
       "        vertical-align: middle;\n",
       "    }\n",
       "\n",
       "    .dataframe tbody tr th {\n",
       "        vertical-align: top;\n",
       "    }\n",
       "\n",
       "    .dataframe thead th {\n",
       "        text-align: right;\n",
       "    }\n",
       "</style>\n",
       "<table border=\"1\" class=\"dataframe\">\n",
       "  <thead>\n",
       "    <tr style=\"text-align: right;\">\n",
       "      <th></th>\n",
       "      <th></th>\n",
       "      <th></th>\n",
       "      <th>Product</th>\n",
       "    </tr>\n",
       "    <tr>\n",
       "      <th>Fit</th>\n",
       "      <th>Income Slab</th>\n",
       "      <th>Product</th>\n",
       "      <th></th>\n",
       "    </tr>\n",
       "  </thead>\n",
       "  <tbody>\n",
       "    <tr>\n",
       "      <th rowspan=\"8\" valign=\"top\">Extremely Fit</th>\n",
       "      <th rowspan=\"2\" valign=\"top\">Low</th>\n",
       "      <th>KP281</th>\n",
       "      <td>0.67</td>\n",
       "    </tr>\n",
       "    <tr>\n",
       "      <th>KP481</th>\n",
       "      <td>0.33</td>\n",
       "    </tr>\n",
       "    <tr>\n",
       "      <th rowspan=\"3\" valign=\"top\">Moderate</th>\n",
       "      <th>KP781</th>\n",
       "      <td>0.50</td>\n",
       "    </tr>\n",
       "    <tr>\n",
       "      <th>KP481</th>\n",
       "      <td>0.29</td>\n",
       "    </tr>\n",
       "    <tr>\n",
       "      <th>KP281</th>\n",
       "      <td>0.21</td>\n",
       "    </tr>\n",
       "    <tr>\n",
       "      <th rowspan=\"3\" valign=\"top\">High</th>\n",
       "      <th>KP781</th>\n",
       "      <td>0.91</td>\n",
       "    </tr>\n",
       "    <tr>\n",
       "      <th>KP281</th>\n",
       "      <td>0.06</td>\n",
       "    </tr>\n",
       "    <tr>\n",
       "      <th>KP481</th>\n",
       "      <td>0.03</td>\n",
       "    </tr>\n",
       "    <tr>\n",
       "      <th rowspan=\"8\" valign=\"top\">Moderately Fit</th>\n",
       "      <th rowspan=\"2\" valign=\"top\">Low</th>\n",
       "      <th>KP281</th>\n",
       "      <td>0.64</td>\n",
       "    </tr>\n",
       "    <tr>\n",
       "      <th>KP481</th>\n",
       "      <td>0.36</td>\n",
       "    </tr>\n",
       "    <tr>\n",
       "      <th rowspan=\"3\" valign=\"top\">Moderate</th>\n",
       "      <th>KP281</th>\n",
       "      <td>0.58</td>\n",
       "    </tr>\n",
       "    <tr>\n",
       "      <th>KP481</th>\n",
       "      <td>0.39</td>\n",
       "    </tr>\n",
       "    <tr>\n",
       "      <th>KP781</th>\n",
       "      <td>0.03</td>\n",
       "    </tr>\n",
       "    <tr>\n",
       "      <th rowspan=\"3\" valign=\"top\">High</th>\n",
       "      <th>KP481</th>\n",
       "      <td>0.50</td>\n",
       "    </tr>\n",
       "    <tr>\n",
       "      <th>KP281</th>\n",
       "      <td>0.35</td>\n",
       "    </tr>\n",
       "    <tr>\n",
       "      <th>KP781</th>\n",
       "      <td>0.15</td>\n",
       "    </tr>\n",
       "    <tr>\n",
       "      <th rowspan=\"6\" valign=\"top\">Unfit</th>\n",
       "      <th rowspan=\"2\" valign=\"top\">Low</th>\n",
       "      <th>KP281</th>\n",
       "      <td>0.53</td>\n",
       "    </tr>\n",
       "    <tr>\n",
       "      <th>KP481</th>\n",
       "      <td>0.47</td>\n",
       "    </tr>\n",
       "    <tr>\n",
       "      <th rowspan=\"2\" valign=\"top\">Moderate</th>\n",
       "      <th>KP281</th>\n",
       "      <td>0.50</td>\n",
       "    </tr>\n",
       "    <tr>\n",
       "      <th>KP481</th>\n",
       "      <td>0.50</td>\n",
       "    </tr>\n",
       "    <tr>\n",
       "      <th rowspan=\"2\" valign=\"top\">High</th>\n",
       "      <th>KP281</th>\n",
       "      <td>0.67</td>\n",
       "    </tr>\n",
       "    <tr>\n",
       "      <th>KP481</th>\n",
       "      <td>0.33</td>\n",
       "    </tr>\n",
       "  </tbody>\n",
       "</table>\n",
       "</div>"
      ],
      "text/plain": [
       "                                    Product\n",
       "Fit            Income Slab Product         \n",
       "Extremely Fit  Low         KP281       0.67\n",
       "                           KP481       0.33\n",
       "               Moderate    KP781       0.50\n",
       "                           KP481       0.29\n",
       "                           KP281       0.21\n",
       "               High        KP781       0.91\n",
       "                           KP281       0.06\n",
       "                           KP481       0.03\n",
       "Moderately Fit Low         KP281       0.64\n",
       "                           KP481       0.36\n",
       "               Moderate    KP281       0.58\n",
       "                           KP481       0.39\n",
       "                           KP781       0.03\n",
       "               High        KP481       0.50\n",
       "                           KP281       0.35\n",
       "                           KP781       0.15\n",
       "Unfit          Low         KP281       0.53\n",
       "                           KP481       0.47\n",
       "               Moderate    KP281       0.50\n",
       "                           KP481       0.50\n",
       "               High        KP281       0.67\n",
       "                           KP481       0.33"
      ]
     },
     "execution_count": 68,
     "metadata": {},
     "output_type": "execute_result"
    }
   ],
   "source": [
    "fit_inc_prob = (fit_income/fit_income.groupby([\"Fit\", \"Income Slab\"]).sum()).round(2)\n",
    "fit_inc_prob"
   ]
  },
  {
   "cell_type": "code",
   "execution_count": null,
   "id": "1421766f",
   "metadata": {},
   "outputs": [],
   "source": []
  },
  {
   "cell_type": "markdown",
   "id": "2d981701",
   "metadata": {},
   "source": [
    "### Income and Fitness V/s Product\n",
    "- P(KP281 | Low Income and Extremely Fit) : 0.67\n",
    "- P(KP281 | Low Income and Moderately Fit) : 0.64\n",
    "- P(KP281 | Moderate Income and Extremely Fit) : 0.58\n",
    "- P(KP281 | Low Income and Unfit) : 0.53\n",
    "- P(KP281 | Moderate Income and Unfit) : 0.50\n",
    "- P(KP281 | Low Income and Unfit) : 0.67\n",
    "- P(KP481 | High Income and Moderately Fit) : 0.50\n",
    "- P(KP781 | High Income and Extremely Fit) : 0.91\n",
    "- P(KP781 | High Income and Moderately Fit) : 0.50"
   ]
  },
  {
   "cell_type": "code",
   "execution_count": null,
   "id": "b30e1a08",
   "metadata": {},
   "outputs": [],
   "source": []
  },
  {
   "cell_type": "code",
   "execution_count": 69,
   "id": "050add87",
   "metadata": {},
   "outputs": [
    {
     "data": {
      "image/png": "[encoded data removed]",
      "text/plain": [
       "<Figure size 1200x800 with 2 Axes>"
      ]
     },
     "metadata": {},
     "output_type": "display_data"
    }
   ],
   "source": [
    "fig = plt.figure(figsize = (12, 8))\n",
    "sns.heatmap(fit_inc_prob, cmap = \"Greens\", linewidth = 1)\n",
    "plt.ylabel(\"Fitness category and Income Slab along with product\")\n",
    "plt.title(\"Probability of Product for different Income-Fitness combinations\", fontweight = \"bold\")\n",
    "plt.show()"
   ]
  },
  {
   "cell_type": "code",
   "execution_count": null,
   "id": "737dab52",
   "metadata": {},
   "outputs": [],
   "source": []
  },
  {
   "cell_type": "markdown",
   "id": "04ac681a",
   "metadata": {},
   "source": [
    "### After analyzing Fitness-Income combinations, we conclude that :\n",
    "- An extremely fit or unfit buyer falling in high income slab has a 0.90 and 0.66 probability of buying a KP781 treadmill respectively.\n",
    "- An moderately fit buyer falling in low or moderate income slab has a 0.64 and 0.57 probability of buying a KP281 treadmill respectively.\n",
    "- A moderately fit buyer falling in moderate income slab has very less chances(0.026) probability of buying a KP781 treadmill.\n",
    "- An extremely fit or unfit buyer falling in high income slab has a 0.062, 0.031 probability of buying a KP281 and KP481 treadmill respectively."
   ]
  },
  {
   "cell_type": "code",
   "execution_count": null,
   "id": "acb03c14",
   "metadata": {},
   "outputs": [],
   "source": []
  },
  {
   "cell_type": "markdown",
   "id": "03c572cf",
   "metadata": {},
   "source": [
    "# Insights:\n",
    "- 44.44% users have bought the entry level(KP281), 33.33% users have bought medium level(KP481) and 22.22% uers have bought the advanced level(KP781) treadmills.\n",
    "- More tham half of the females(52.6%) buy the entry level treadmills.\n",
    "- Females are very less likely to buy advanced(9.2%) i.e, KP781 treadmills.\n",
    "- Males are more likely to buy the entry level(38.5%) and advanced level(31.7%) treadmills.\n",
    "- Entry level treadmills(KP281) are the first choice among Partnered(44.9%) and Single(43.8%) followed by treadmills(KP481) which have 33.6% in Partnered and 32.9% in Single followed by treadmills(KP781) which have 21.5% in Partnered and 23.3% in Single.\n",
    "- 50% of the people buying KP281 are aged between 18 - 26 years, 50% of the people buying KP481 are aged between 19 - 26 years and 50% of the people buying KP781 are aged between 22 - 27 years.\n",
    "- Most of the people buying KP781 have given themselves a fitness score of almost 5 independent of their gender and marital status.\n",
    "- If a person has rated himself/herself to be extremely fit, there is a 0.65 probability that he'll buy a KP781.\n",
    "- KP281 is the first choice of Young Males, Young Females, Mid-aged Females, Mid-aged Males with probabilities of 0.26, 0.25, 0.20, 0.21 respectively.\n",
    "- KP781 is the perfect fit for Young Males and Mid-aged Males with probabilities of 0.375, 0.35 respectively.\n",
    "- A partnered female is highly likely to buy a KP281 treadmill.\n",
    "- A partnered male is equally likely to buy a KP281 and KP481 treadmills.\n",
    "- A single male is highly likely to buy a KP281 treadmill.\n",
    "- An extremely fit or unfit buyer falling in high income slab has a 0.90 and 0.66 probability of buying a KP781 treadmill respectively.\n",
    "- An moderately fit buyer falling in low or moderate income slab has a 0.64 and 0.57 probability of buying a KP281 treadmill respectively.\n",
    "- A moderately fit buyer falling in moderate income slab has very less chances(0.026) probability of buying a KP781 treadmill."
   ]
  },
  {
   "cell_type": "code",
   "execution_count": null,
   "id": "d94ed370",
   "metadata": {},
   "outputs": [],
   "source": []
  },
  {
   "cell_type": "markdown",
   "id": "411bc9dd",
   "metadata": {},
   "source": [
    "## Recommendations:\n",
    "- KP281 is the first choice of Young(18-26 years) Males, Young Females, Mid-aged(27-40) Females, Mid-aged Males.\n",
    "- Most of the people intending to use the treadmill around 3 times per week should be targeted with KP281 or KP481 independent of their gender and marital status.\n",
    "- Most of the people intending to use the treadmill around 5 times per week should be targeted with KP781 independent of their gender and marital status.\n",
    "- Most of the people who have given themselves a fitness score around 3(Moderately fit) should be targeted with KP281 and KP481 independent of their gender and marital status.\n",
    "- Most of the people who have given themselves a fitness score around 5(Extremely fit) should be targeted with KP781 independent of their gender and marital status.\n",
    "- People falling in high income(54577 to 104581\\$) slabs should be targeted with KP781.\n",
    "- People falling in low and moderate income(29561 to 54576$) slabs should be targeted with KP281 and KP481.\n"
   ]
  },
  {
   "cell_type": "code",
   "execution_count": null,
   "id": "31cf2ada",
   "metadata": {},
   "outputs": [],
   "source": []
  },
  {
   "cell_type": "markdown",
   "id": "005fddee",
   "metadata": {},
   "source": [
    "## Ideal Customer Segmentation"
   ]
  },
  {
   "cell_type": "code",
   "execution_count": null,
   "id": "bd0c297f",
   "metadata": {},
   "outputs": [],
   "source": []
  },
  {
   "cell_type": "markdown",
   "id": "c053d21b",
   "metadata": {},
   "source": [
    "### The ideal buyers for the following products would be :"
   ]
  },
  {
   "cell_type": "markdown",
   "id": "3cdea5d4",
   "metadata": {},
   "source": [
    "### KP281\n",
    "- A partnered female\n",
    "- A single male or female\n",
    "- A buyer with low to moderate income(29561 to 54576$) with any fitness score(1-5)"
   ]
  },
  {
   "cell_type": "markdown",
   "id": "730c676c",
   "metadata": {},
   "source": [
    "### KP481\n",
    "- A single or partnered female\n",
    "- An unfit(fitness score below 3) buyer with low to moderate(29561 to 54576\\$) income\n",
    "- A moderately fit(fitness score of 3) buyer with high income(above 54577$) "
   ]
  },
  {
   "cell_type": "markdown",
   "id": "b582724a",
   "metadata": {},
   "source": [
    "### KP781\n",
    "- A single or partnered male\n",
    "- An extremely fit(fitness score above 4) buyer with high income(above 54577\\$)"
   ]
  }
 ],
 "metadata": {
  "kernelspec": {
   "display_name": "Python 3 (ipykernel)",
   "language": "python",
   "name": "python3"
  },
  "language_info": {
   "codemirror_mode": {
    "name": "ipython",
    "version": 3
   },
   "file_extension": ".py",
   "mimetype": "text/x-python",
   "name": "python",
   "nbconvert_exporter": "python",
   "pygments_lexer": "ipython3",
   "version": "3.10.9"
  }
 },
 "nbformat": 4,
 "nbformat_minor": 5
}
